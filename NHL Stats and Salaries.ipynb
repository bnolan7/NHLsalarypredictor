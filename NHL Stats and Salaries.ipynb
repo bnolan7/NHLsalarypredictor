{
 "cells": [
  {
   "cell_type": "code",
   "execution_count": 1,
   "metadata": {},
   "outputs": [],
   "source": [
    "import numpy as np\n",
    "import matplotlib\n",
    "import matplotlib.pyplot as plt\n",
    "import pandas as pd\n",
    "import sklearn as sk\n",
    "import tensorflow as tf\n",
    "from tensorflow import keras\n",
    "import seaborn as sns"
   ]
  },
  {
   "cell_type": "code",
   "execution_count": 2,
   "metadata": {},
   "outputs": [],
   "source": [
    "data = pd.read_excel(\"C:\\\\Users\\\\bnola\\\\Documents\\\\Coding practice\\\\2018-2019 NHL Stats+Salary.xlsx\")"
   ]
  },
  {
   "cell_type": "code",
   "execution_count": 3,
   "metadata": {
    "scrolled": true
   },
   "outputs": [
    {
     "data": {
      "text/html": [
       "<div>\n",
       "<style scoped>\n",
       "    .dataframe tbody tr th:only-of-type {\n",
       "        vertical-align: middle;\n",
       "    }\n",
       "\n",
       "    .dataframe tbody tr th {\n",
       "        vertical-align: top;\n",
       "    }\n",
       "\n",
       "    .dataframe thead th {\n",
       "        text-align: right;\n",
       "    }\n",
       "</style>\n",
       "<table border=\"1\" class=\"dataframe\">\n",
       "  <thead>\n",
       "    <tr style=\"text-align: right;\">\n",
       "      <th></th>\n",
       "      <th>PLAYER</th>\n",
       "      <th>TEAM</th>\n",
       "      <th>AGE</th>\n",
       "      <th>POS</th>\n",
       "      <th>HANDED</th>\n",
       "      <th>GP</th>\n",
       "      <th>G</th>\n",
       "      <th>A</th>\n",
       "      <th>P</th>\n",
       "      <th>P/GP</th>\n",
       "      <th>+/-</th>\n",
       "      <th>Sh</th>\n",
       "      <th>Sh%</th>\n",
       "      <th>TOI</th>\n",
       "      <th>CAP HIT</th>\n",
       "      <th>SALARY</th>\n",
       "    </tr>\n",
       "  </thead>\n",
       "  <tbody>\n",
       "    <tr>\n",
       "      <th>0</th>\n",
       "      <td>1. Zdeno Chara</td>\n",
       "      <td>BOS</td>\n",
       "      <td>41</td>\n",
       "      <td>LD</td>\n",
       "      <td>Left</td>\n",
       "      <td>62</td>\n",
       "      <td>5</td>\n",
       "      <td>9</td>\n",
       "      <td>14</td>\n",
       "      <td>0.23</td>\n",
       "      <td>22</td>\n",
       "      <td>99</td>\n",
       "      <td>0.05</td>\n",
       "      <td>21:04:00</td>\n",
       "      <td>5000000</td>\n",
       "      <td>5000000</td>\n",
       "    </tr>\n",
       "    <tr>\n",
       "      <th>1</th>\n",
       "      <td>2. Marián Hossa</td>\n",
       "      <td>ARI</td>\n",
       "      <td>39</td>\n",
       "      <td>RW</td>\n",
       "      <td>Left</td>\n",
       "      <td>0</td>\n",
       "      <td>0</td>\n",
       "      <td>0</td>\n",
       "      <td>0</td>\n",
       "      <td>0</td>\n",
       "      <td>0</td>\n",
       "      <td>0</td>\n",
       "      <td>0</td>\n",
       "      <td>NaN</td>\n",
       "      <td>5275000</td>\n",
       "      <td>1000000</td>\n",
       "    </tr>\n",
       "    <tr>\n",
       "      <th>2</th>\n",
       "      <td>3. Joe Thornton</td>\n",
       "      <td>SJS</td>\n",
       "      <td>38</td>\n",
       "      <td>C</td>\n",
       "      <td>Left</td>\n",
       "      <td>73</td>\n",
       "      <td>16</td>\n",
       "      <td>35</td>\n",
       "      <td>51</td>\n",
       "      <td>0.7</td>\n",
       "      <td>8</td>\n",
       "      <td>90</td>\n",
       "      <td>0.18</td>\n",
       "      <td>15:32:00</td>\n",
       "      <td>5000000</td>\n",
       "      <td>5000000</td>\n",
       "    </tr>\n",
       "    <tr>\n",
       "      <th>3</th>\n",
       "      <td>4. Johan Franzen</td>\n",
       "      <td>DET</td>\n",
       "      <td>38</td>\n",
       "      <td>RW, LW</td>\n",
       "      <td>Left</td>\n",
       "      <td>0</td>\n",
       "      <td>0</td>\n",
       "      <td>0</td>\n",
       "      <td>0</td>\n",
       "      <td>0</td>\n",
       "      <td>0</td>\n",
       "      <td>0</td>\n",
       "      <td>0</td>\n",
       "      <td>NaN</td>\n",
       "      <td>3954545</td>\n",
       "      <td>1000000</td>\n",
       "    </tr>\n",
       "    <tr>\n",
       "      <th>4</th>\n",
       "      <td>5. Ryan Miller</td>\n",
       "      <td>ANA</td>\n",
       "      <td>37</td>\n",
       "      <td>G</td>\n",
       "      <td>Left</td>\n",
       "      <td>20</td>\n",
       "      <td>-</td>\n",
       "      <td>-</td>\n",
       "      <td>-</td>\n",
       "      <td>-</td>\n",
       "      <td>-</td>\n",
       "      <td>-</td>\n",
       "      <td>-</td>\n",
       "      <td>-</td>\n",
       "      <td>2000000</td>\n",
       "      <td>2000000</td>\n",
       "    </tr>\n",
       "    <tr>\n",
       "      <th>...</th>\n",
       "      <td>...</td>\n",
       "      <td>...</td>\n",
       "      <td>...</td>\n",
       "      <td>...</td>\n",
       "      <td>...</td>\n",
       "      <td>...</td>\n",
       "      <td>...</td>\n",
       "      <td>...</td>\n",
       "      <td>...</td>\n",
       "      <td>...</td>\n",
       "      <td>...</td>\n",
       "      <td>...</td>\n",
       "      <td>...</td>\n",
       "      <td>...</td>\n",
       "      <td>...</td>\n",
       "      <td>...</td>\n",
       "    </tr>\n",
       "    <tr>\n",
       "      <th>495</th>\n",
       "      <td>496. Sean Kuraly</td>\n",
       "      <td>BOS</td>\n",
       "      <td>25</td>\n",
       "      <td>C, LW</td>\n",
       "      <td>Left</td>\n",
       "      <td>71</td>\n",
       "      <td>8</td>\n",
       "      <td>13</td>\n",
       "      <td>21</td>\n",
       "      <td>0.3</td>\n",
       "      <td>6</td>\n",
       "      <td>134</td>\n",
       "      <td>0.06</td>\n",
       "      <td>13:46:00</td>\n",
       "      <td>1275000</td>\n",
       "      <td>1300000</td>\n",
       "    </tr>\n",
       "    <tr>\n",
       "      <th>496</th>\n",
       "      <td>497. Matt Puempel</td>\n",
       "      <td>DET</td>\n",
       "      <td>25</td>\n",
       "      <td>LW</td>\n",
       "      <td>Left</td>\n",
       "      <td>8</td>\n",
       "      <td>1</td>\n",
       "      <td>0</td>\n",
       "      <td>1</td>\n",
       "      <td>0.13</td>\n",
       "      <td>-2</td>\n",
       "      <td>10</td>\n",
       "      <td>0.1</td>\n",
       "      <td>10:24:00</td>\n",
       "      <td>675000</td>\n",
       "      <td>650000</td>\n",
       "    </tr>\n",
       "    <tr>\n",
       "      <th>497</th>\n",
       "      <td>498. Rocco Grimaldi</td>\n",
       "      <td>NSH</td>\n",
       "      <td>25</td>\n",
       "      <td>LW, RW</td>\n",
       "      <td>Right</td>\n",
       "      <td>53</td>\n",
       "      <td>5</td>\n",
       "      <td>8</td>\n",
       "      <td>13</td>\n",
       "      <td>0.25</td>\n",
       "      <td>-2</td>\n",
       "      <td>81</td>\n",
       "      <td>0.06</td>\n",
       "      <td>10:00:00</td>\n",
       "      <td>650000</td>\n",
       "      <td>650000</td>\n",
       "    </tr>\n",
       "    <tr>\n",
       "      <th>498</th>\n",
       "      <td>499. Dillon Simpson</td>\n",
       "      <td>CBJ</td>\n",
       "      <td>25</td>\n",
       "      <td>LD</td>\n",
       "      <td>Left</td>\n",
       "      <td>0</td>\n",
       "      <td>0</td>\n",
       "      <td>0</td>\n",
       "      <td>0</td>\n",
       "      <td>0</td>\n",
       "      <td>0</td>\n",
       "      <td>0</td>\n",
       "      <td>0</td>\n",
       "      <td>NaN</td>\n",
       "      <td>675000</td>\n",
       "      <td>650000</td>\n",
       "    </tr>\n",
       "    <tr>\n",
       "      <th>499</th>\n",
       "      <td>500. Stefan Noesen</td>\n",
       "      <td>SJS</td>\n",
       "      <td>25</td>\n",
       "      <td>RW, LW</td>\n",
       "      <td>Right</td>\n",
       "      <td>41</td>\n",
       "      <td>3</td>\n",
       "      <td>5</td>\n",
       "      <td>8</td>\n",
       "      <td>0.2</td>\n",
       "      <td>-19</td>\n",
       "      <td>64</td>\n",
       "      <td>0.05</td>\n",
       "      <td>12:43:00</td>\n",
       "      <td>1725000</td>\n",
       "      <td>1725000</td>\n",
       "    </tr>\n",
       "  </tbody>\n",
       "</table>\n",
       "<p>500 rows × 16 columns</p>\n",
       "</div>"
      ],
      "text/plain": [
       "                  PLAYER TEAM  AGE     POS HANDED  GP   G   A   P  P/GP  +/-  \\\n",
       "0         1. Zdeno Chara  BOS   41      LD   Left  62   5   9  14  0.23   22   \n",
       "1        2. Marián Hossa  ARI   39      RW   Left   0   0   0   0     0    0   \n",
       "2        3. Joe Thornton  SJS   38       C   Left  73  16  35  51   0.7    8   \n",
       "3       4. Johan Franzen  DET   38  RW, LW   Left   0   0   0   0     0    0   \n",
       "4         5. Ryan Miller  ANA   37       G   Left  20   -   -   -     -    -   \n",
       "..                   ...  ...  ...     ...    ...  ..  ..  ..  ..   ...  ...   \n",
       "495     496. Sean Kuraly  BOS   25   C, LW   Left  71   8  13  21   0.3    6   \n",
       "496    497. Matt Puempel  DET   25      LW   Left   8   1   0   1  0.13   -2   \n",
       "497  498. Rocco Grimaldi  NSH   25  LW, RW  Right  53   5   8  13  0.25   -2   \n",
       "498  499. Dillon Simpson  CBJ   25      LD   Left   0   0   0   0     0    0   \n",
       "499   500. Stefan Noesen  SJS   25  RW, LW  Right  41   3   5   8   0.2  -19   \n",
       "\n",
       "      Sh   Sh%       TOI  CAP HIT   SALARY  \n",
       "0     99  0.05  21:04:00  5000000  5000000  \n",
       "1      0     0       NaN  5275000  1000000  \n",
       "2     90  0.18  15:32:00  5000000  5000000  \n",
       "3      0     0       NaN  3954545  1000000  \n",
       "4      -     -         -  2000000  2000000  \n",
       "..   ...   ...       ...      ...      ...  \n",
       "495  134  0.06  13:46:00  1275000  1300000  \n",
       "496   10   0.1  10:24:00   675000   650000  \n",
       "497   81  0.06  10:00:00   650000   650000  \n",
       "498    0     0       NaN   675000   650000  \n",
       "499   64  0.05  12:43:00  1725000  1725000  \n",
       "\n",
       "[500 rows x 16 columns]"
      ]
     },
     "execution_count": 3,
     "metadata": {},
     "output_type": "execute_result"
    }
   ],
   "source": [
    "data"
   ]
  },
  {
   "cell_type": "code",
   "execution_count": 4,
   "metadata": {},
   "outputs": [],
   "source": [
    "df = data.dropna(axis=0, how='any')"
   ]
  },
  {
   "cell_type": "code",
   "execution_count": 5,
   "metadata": {},
   "outputs": [],
   "source": [
    "players = df.mask(df.POS == 'G')\n",
    "players = players.dropna(axis=0, how='any')"
   ]
  },
  {
   "cell_type": "code",
   "execution_count": 6,
   "metadata": {},
   "outputs": [],
   "source": [
    "players = players.drop(['TOI', 'CAP HIT'], axis=1)"
   ]
  },
  {
   "cell_type": "code",
   "execution_count": 7,
   "metadata": {},
   "outputs": [],
   "source": [
    "Y = players['SALARY'].values"
   ]
  },
  {
   "cell_type": "code",
   "execution_count": 8,
   "metadata": {},
   "outputs": [],
   "source": [
    "Y = Y/1000000.000"
   ]
  },
  {
   "cell_type": "code",
   "execution_count": 33,
   "metadata": {},
   "outputs": [],
   "source": [
    "X = players.drop(['PLAYER','TEAM', 'POS', 'HANDED', 'SALARY'], axis=1).values"
   ]
  },
  {
   "cell_type": "code",
   "execution_count": 34,
   "metadata": {},
   "outputs": [
    {
     "data": {
      "image/png": "[encoded data removed]",
      "text/plain": [
       "<Figure size 720x504 with 2 Axes>"
      ]
     },
     "metadata": {
      "needs_background": "light"
     },
     "output_type": "display_data"
    }
   ],
   "source": [
    "fig = plt.figure(figsize=(10,7))\n",
    "fig.add_subplot(2,1,1)\n",
    "sns.histplot(data=Y)\n",
    "fig.add_subplot(2,1,2)\n",
    "sns.boxplot(data=Y, orient='h')\n",
    "plt.tight_layout()"
   ]
  },
  {
   "cell_type": "code",
   "execution_count": 35,
   "metadata": {},
   "outputs": [
    {
     "data": {
      "image/png": "[encoded data removed]",
      "text/plain": [
       "<Figure size 1296x360 with 4 Axes>"
      ]
     },
     "metadata": {
      "needs_background": "light"
     },
     "output_type": "display_data"
    }
   ],
   "source": [
    "fig = plt.figure(figsize=(18,5));\n",
    "fig.add_subplot(2,2,1)\n",
    "sns.scatterplot(x=players['P'],y= Y)\n",
    "fig.add_subplot(2,2,2)\n",
    "sns.scatterplot(x=players['G'],y= Y)\n",
    "fig.add_subplot(2,2,3)\n",
    "sns.scatterplot(x=players['Sh%'],y= Y)\n",
    "fig.add_subplot(2,2,4)\n",
    "sns.scatterplot(x=players['AGE'],y= Y);\n",
    "fig.tight_layout()"
   ]
  },
  {
   "cell_type": "code",
   "execution_count": 51,
   "metadata": {},
   "outputs": [],
   "source": [
    "from sklearn.model_selection import train_test_split\n",
    "X_train, X_test, Y_train, Y_test = train_test_split(X, Y, test_size = 0.25)"
   ]
  },
  {
   "cell_type": "code",
   "execution_count": 52,
   "metadata": {},
   "outputs": [],
   "source": [
    "from sklearn import preprocessing\n",
    "s_scaler = preprocessing.StandardScaler()\n",
    "X_train = s_scaler.fit_transform(X_train.astype(np.float))\n",
    "X_test = s_scaler.transform(X_test.astype(np.float))"
   ]
  },
  {
   "cell_type": "code",
   "execution_count": 53,
   "metadata": {},
   "outputs": [
    {
     "name": "stdout",
     "output_type": "stream",
     "text": [
      "3.6271093917525774\n",
      "[ 0.50457379 -0.12546699 -0.25754856  0.87201784  0.45205802  0.32738131\n",
      " -0.14886683  0.87229618 -0.09459165]\n"
     ]
    }
   ],
   "source": [
    "from sklearn.linear_model import LinearRegression\n",
    "regressor = LinearRegression()\n",
    "regressor.fit(X_train, Y_train)\n",
    "print(regressor.intercept_)\n",
    "print(regressor.coef_)"
   ]
  },
  {
   "cell_type": "code",
   "execution_count": 54,
   "metadata": {},
   "outputs": [],
   "source": [
    "y_pred_reg = regressor.predict(X_test)"
   ]
  },
  {
   "cell_type": "code",
   "execution_count": 55,
   "metadata": {},
   "outputs": [
    {
     "data": {
      "text/html": [
       "<div>\n",
       "<style scoped>\n",
       "    .dataframe tbody tr th:only-of-type {\n",
       "        vertical-align: middle;\n",
       "    }\n",
       "\n",
       "    .dataframe tbody tr th {\n",
       "        vertical-align: top;\n",
       "    }\n",
       "\n",
       "    .dataframe thead th {\n",
       "        text-align: right;\n",
       "    }\n",
       "</style>\n",
       "<table border=\"1\" class=\"dataframe\">\n",
       "  <thead>\n",
       "    <tr style=\"text-align: right;\">\n",
       "      <th></th>\n",
       "      <th>Coefficient</th>\n",
       "    </tr>\n",
       "  </thead>\n",
       "  <tbody>\n",
       "    <tr>\n",
       "      <th>AGE</th>\n",
       "      <td>0.504574</td>\n",
       "    </tr>\n",
       "    <tr>\n",
       "      <th>GP</th>\n",
       "      <td>-0.125467</td>\n",
       "    </tr>\n",
       "    <tr>\n",
       "      <th>G</th>\n",
       "      <td>-0.257549</td>\n",
       "    </tr>\n",
       "    <tr>\n",
       "      <th>A</th>\n",
       "      <td>0.872018</td>\n",
       "    </tr>\n",
       "    <tr>\n",
       "      <th>P</th>\n",
       "      <td>0.452058</td>\n",
       "    </tr>\n",
       "    <tr>\n",
       "      <th>P/GP</th>\n",
       "      <td>0.327381</td>\n",
       "    </tr>\n",
       "    <tr>\n",
       "      <th>+/-</th>\n",
       "      <td>-0.148867</td>\n",
       "    </tr>\n",
       "    <tr>\n",
       "      <th>Sh</th>\n",
       "      <td>0.872296</td>\n",
       "    </tr>\n",
       "    <tr>\n",
       "      <th>Sh%</th>\n",
       "      <td>-0.094592</td>\n",
       "    </tr>\n",
       "  </tbody>\n",
       "</table>\n",
       "</div>"
      ],
      "text/plain": [
       "      Coefficient\n",
       "AGE      0.504574\n",
       "GP      -0.125467\n",
       "G       -0.257549\n",
       "A        0.872018\n",
       "P        0.452058\n",
       "P/GP     0.327381\n",
       "+/-     -0.148867\n",
       "Sh       0.872296\n",
       "Sh%     -0.094592"
      ]
     },
     "execution_count": 55,
     "metadata": {},
     "output_type": "execute_result"
    }
   ],
   "source": [
    "coeff_df = pd.DataFrame(regressor.coef_, players.drop(['PLAYER','TEAM', 'POS', 'HANDED', 'SALARY'], axis=1).columns, columns=['Coefficient'])\n",
    "coeff_df"
   ]
  },
  {
   "cell_type": "code",
   "execution_count": 56,
   "metadata": {},
   "outputs": [
    {
     "data": {
      "text/plain": [
       "<Figure size 720x360 with 0 Axes>"
      ]
     },
     "metadata": {},
     "output_type": "display_data"
    },
    {
     "data": {
      "image/png": "[encoded data removed]",
      "text/plain": [
       "<Figure size 360x360 with 1 Axes>"
      ]
     },
     "metadata": {
      "needs_background": "light"
     },
     "output_type": "display_data"
    }
   ],
   "source": [
    "fig = plt.figure(figsize=(10,5));\n",
    "resids = (Y_test - y_pred_reg)\n",
    "sns.displot(resids);"
   ]
  },
  {
   "cell_type": "code",
   "execution_count": 57,
   "metadata": {},
   "outputs": [
    {
     "data": {
      "text/html": [
       "<div>\n",
       "<style scoped>\n",
       "    .dataframe tbody tr th:only-of-type {\n",
       "        vertical-align: middle;\n",
       "    }\n",
       "\n",
       "    .dataframe tbody tr th {\n",
       "        vertical-align: top;\n",
       "    }\n",
       "\n",
       "    .dataframe thead th {\n",
       "        text-align: right;\n",
       "    }\n",
       "</style>\n",
       "<table border=\"1\" class=\"dataframe\">\n",
       "  <thead>\n",
       "    <tr style=\"text-align: right;\">\n",
       "      <th></th>\n",
       "      <th>Actual</th>\n",
       "      <th>Predicted</th>\n",
       "    </tr>\n",
       "  </thead>\n",
       "  <tbody>\n",
       "    <tr>\n",
       "      <th>0</th>\n",
       "      <td>7.65</td>\n",
       "      <td>6.339392</td>\n",
       "    </tr>\n",
       "    <tr>\n",
       "      <th>1</th>\n",
       "      <td>5.00</td>\n",
       "      <td>3.655805</td>\n",
       "    </tr>\n",
       "    <tr>\n",
       "      <th>2</th>\n",
       "      <td>1.95</td>\n",
       "      <td>1.426771</td>\n",
       "    </tr>\n",
       "    <tr>\n",
       "      <th>3</th>\n",
       "      <td>0.65</td>\n",
       "      <td>0.634217</td>\n",
       "    </tr>\n",
       "    <tr>\n",
       "      <th>4</th>\n",
       "      <td>0.65</td>\n",
       "      <td>0.834036</td>\n",
       "    </tr>\n",
       "    <tr>\n",
       "      <th>5</th>\n",
       "      <td>6.10</td>\n",
       "      <td>4.849707</td>\n",
       "    </tr>\n",
       "    <tr>\n",
       "      <th>6</th>\n",
       "      <td>2.00</td>\n",
       "      <td>1.764089</td>\n",
       "    </tr>\n",
       "    <tr>\n",
       "      <th>7</th>\n",
       "      <td>4.00</td>\n",
       "      <td>2.831486</td>\n",
       "    </tr>\n",
       "    <tr>\n",
       "      <th>8</th>\n",
       "      <td>1.10</td>\n",
       "      <td>2.394571</td>\n",
       "    </tr>\n",
       "    <tr>\n",
       "      <th>9</th>\n",
       "      <td>4.60</td>\n",
       "      <td>5.158745</td>\n",
       "    </tr>\n",
       "  </tbody>\n",
       "</table>\n",
       "</div>"
      ],
      "text/plain": [
       "   Actual  Predicted\n",
       "0    7.65   6.339392\n",
       "1    5.00   3.655805\n",
       "2    1.95   1.426771\n",
       "3    0.65   0.634217\n",
       "4    0.65   0.834036\n",
       "5    6.10   4.849707\n",
       "6    2.00   1.764089\n",
       "7    4.00   2.831486\n",
       "8    1.10   2.394571\n",
       "9    4.60   5.158745"
      ]
     },
     "execution_count": 57,
     "metadata": {},
     "output_type": "execute_result"
    }
   ],
   "source": [
    "y_pred = regressor.predict(X_test)\n",
    "df = pd.DataFrame({'Actual': Y_test, 'Predicted': y_pred})\n",
    "df1 = df.head(10)\n",
    "df1"
   ]
  },
  {
   "cell_type": "code",
   "execution_count": 58,
   "metadata": {},
   "outputs": [
    {
     "name": "stdout",
     "output_type": "stream",
     "text": [
      "MAE: 1.163513425433011\n",
      "MSE: 2.1836276519407227\n",
      "RMSE: 1.4777102733420793\n",
      "VarScore: 0.6790989490023165\n"
     ]
    }
   ],
   "source": [
    "# evaluate the performance of the algorithm (MAE - MSE - RMSE)\n",
    "from sklearn import metrics\n",
    "print('MAE:', metrics.mean_absolute_error(Y_test, y_pred))  \n",
    "print('MSE:', metrics.mean_squared_error(Y_test, y_pred))  \n",
    "print('RMSE:', np.sqrt(metrics.mean_squared_error(Y_test, y_pred)))\n",
    "print('VarScore:',metrics.explained_variance_score(Y_test,y_pred))"
   ]
  },
  {
   "cell_type": "code",
   "execution_count": 59,
   "metadata": {},
   "outputs": [
    {
     "data": {
      "text/plain": [
       "[<matplotlib.lines.Line2D at 0x221e4c6deb0>]"
      ]
     },
     "execution_count": 59,
     "metadata": {},
     "output_type": "execute_result"
    },
    {
     "data": {
      "image/png": "[encoded data removed]",
      "text/plain": [
       "<Figure size 720x360 with 1 Axes>"
      ]
     },
     "metadata": {
      "needs_background": "light"
     },
     "output_type": "display_data"
    }
   ],
   "source": [
    "fig = plt.figure(figsize=(10,5))\n",
    "plt.scatter(df['Actual'], df['Predicted'])\n",
    "plt.plot(df['Actual'], df['Actual'],'r')"
   ]
  },
  {
   "cell_type": "code",
   "execution_count": 60,
   "metadata": {},
   "outputs": [
    {
     "name": "stdout",
     "output_type": "stream",
     "text": [
      "Epoch 1/100\n",
      "1/7 [===>..........................] - ETA: 0s - loss: 21.2735WARNING:tensorflow:Callbacks method `on_train_batch_end` is slow compared to the batch time (batch time: 0.0000s vs `on_train_batch_end` time: 0.0010s). Check your callbacks.\n",
      "7/7 [==============================] - 0s 32ms/step - loss: 22.9732 - val_loss: 25.2556\n",
      "Epoch 2/100\n",
      "7/7 [==============================] - 0s 4ms/step - loss: 21.9389 - val_loss: 24.1521\n",
      "Epoch 3/100\n",
      "7/7 [==============================] - 0s 3ms/step - loss: 21.0164 - val_loss: 23.1022\n",
      "Epoch 4/100\n",
      "7/7 [==============================] - 0s 3ms/step - loss: 20.1471 - val_loss: 22.0965\n",
      "Epoch 5/100\n",
      "7/7 [==============================] - 0s 3ms/step - loss: 19.2647 - val_loss: 21.1309\n",
      "Epoch 6/100\n",
      "7/7 [==============================] - 0s 3ms/step - loss: 18.4432 - val_loss: 20.1507\n",
      "Epoch 7/100\n",
      "7/7 [==============================] - 0s 4ms/step - loss: 17.5765 - val_loss: 19.1619\n",
      "Epoch 8/100\n",
      "7/7 [==============================] - 0s 3ms/step - loss: 16.6984 - val_loss: 18.1262\n",
      "Epoch 9/100\n",
      "7/7 [==============================] - 0s 3ms/step - loss: 15.7619 - val_loss: 17.0817\n",
      "Epoch 10/100\n",
      "7/7 [==============================] - 0s 3ms/step - loss: 14.8412 - val_loss: 15.9871\n",
      "Epoch 11/100\n",
      "7/7 [==============================] - 0s 3ms/step - loss: 13.8779 - val_loss: 14.8634\n",
      "Epoch 12/100\n",
      "7/7 [==============================] - 0s 3ms/step - loss: 12.8925 - val_loss: 13.6950\n",
      "Epoch 13/100\n",
      "7/7 [==============================] - 0s 3ms/step - loss: 11.8379 - val_loss: 12.5439\n",
      "Epoch 14/100\n",
      "7/7 [==============================] - 0s 3ms/step - loss: 10.8405 - val_loss: 11.3755\n",
      "Epoch 15/100\n",
      "7/7 [==============================] - 0s 3ms/step - loss: 9.7999 - val_loss: 10.2741\n",
      "Epoch 16/100\n",
      "7/7 [==============================] - 0s 3ms/step - loss: 8.8602 - val_loss: 9.2401\n",
      "Epoch 17/100\n",
      "7/7 [==============================] - 0s 3ms/step - loss: 7.9608 - val_loss: 8.3156\n",
      "Epoch 18/100\n",
      "7/7 [==============================] - 0s 4ms/step - loss: 7.2132 - val_loss: 7.5575\n",
      "Epoch 19/100\n",
      "7/7 [==============================] - 0s 4ms/step - loss: 6.5944 - val_loss: 6.9726\n",
      "Epoch 20/100\n",
      "7/7 [==============================] - 0s 4ms/step - loss: 6.0737 - val_loss: 6.5564\n",
      "Epoch 21/100\n",
      "7/7 [==============================] - 0s 3ms/step - loss: 5.7148 - val_loss: 6.2595\n",
      "Epoch 22/100\n",
      "7/7 [==============================] - 0s 3ms/step - loss: 5.4568 - val_loss: 6.0428\n",
      "Epoch 23/100\n",
      "7/7 [==============================] - 0s 3ms/step - loss: 5.2525 - val_loss: 5.8644\n",
      "Epoch 24/100\n",
      "7/7 [==============================] - 0s 4ms/step - loss: 5.0923 - val_loss: 5.6864\n",
      "Epoch 25/100\n",
      "7/7 [==============================] - 0s 3ms/step - loss: 4.9620 - val_loss: 5.5066\n",
      "Epoch 26/100\n",
      "7/7 [==============================] - 0s 3ms/step - loss: 4.8064 - val_loss: 5.3317\n",
      "Epoch 27/100\n",
      "7/7 [==============================] - 0s 4ms/step - loss: 4.6773 - val_loss: 5.1727\n",
      "Epoch 28/100\n",
      "7/7 [==============================] - 0s 3ms/step - loss: 4.5526 - val_loss: 5.0251\n",
      "Epoch 29/100\n",
      "7/7 [==============================] - 0s 3ms/step - loss: 4.4388 - val_loss: 4.8821\n",
      "Epoch 30/100\n",
      "7/7 [==============================] - 0s 3ms/step - loss: 4.3258 - val_loss: 4.7505\n",
      "Epoch 31/100\n",
      "7/7 [==============================] - 0s 3ms/step - loss: 4.2304 - val_loss: 4.6151\n",
      "Epoch 32/100\n",
      "7/7 [==============================] - 0s 3ms/step - loss: 4.1428 - val_loss: 4.4920\n",
      "Epoch 33/100\n",
      "7/7 [==============================] - 0s 3ms/step - loss: 4.0660 - val_loss: 4.3754\n",
      "Epoch 34/100\n",
      "7/7 [==============================] - 0s 4ms/step - loss: 3.9806 - val_loss: 4.2752\n",
      "Epoch 35/100\n",
      "7/7 [==============================] - 0s 4ms/step - loss: 3.9124 - val_loss: 4.1809\n",
      "Epoch 36/100\n",
      "7/7 [==============================] - 0s 3ms/step - loss: 3.8527 - val_loss: 4.1006\n",
      "Epoch 37/100\n",
      "7/7 [==============================] - 0s 3ms/step - loss: 3.7955 - val_loss: 4.0320\n",
      "Epoch 38/100\n",
      "7/7 [==============================] - 0s 4ms/step - loss: 3.7538 - val_loss: 3.9608\n",
      "Epoch 39/100\n",
      "7/7 [==============================] - 0s 3ms/step - loss: 3.7014 - val_loss: 3.9184\n",
      "Epoch 40/100\n",
      "7/7 [==============================] - 0s 4ms/step - loss: 3.6639 - val_loss: 3.8537\n",
      "Epoch 41/100\n",
      "7/7 [==============================] - 0s 3ms/step - loss: 3.6268 - val_loss: 3.8009\n",
      "Epoch 42/100\n",
      "7/7 [==============================] - 0s 3ms/step - loss: 3.5819 - val_loss: 3.7724\n",
      "Epoch 43/100\n",
      "7/7 [==============================] - 0s 3ms/step - loss: 3.5526 - val_loss: 3.7345\n",
      "Epoch 44/100\n",
      "7/7 [==============================] - 0s 4ms/step - loss: 3.5237 - val_loss: 3.7023\n",
      "Epoch 45/100\n",
      "7/7 [==============================] - 0s 3ms/step - loss: 3.5003 - val_loss: 3.6849\n",
      "Epoch 46/100\n",
      "7/7 [==============================] - 0s 4ms/step - loss: 3.4787 - val_loss: 3.6637\n",
      "Epoch 47/100\n",
      "7/7 [==============================] - 0s 4ms/step - loss: 3.4573 - val_loss: 3.6310\n",
      "Epoch 48/100\n",
      "7/7 [==============================] - 0s 3ms/step - loss: 3.4374 - val_loss: 3.6021\n",
      "Epoch 49/100\n",
      "7/7 [==============================] - 0s 3ms/step - loss: 3.4123 - val_loss: 3.5770\n",
      "Epoch 50/100\n",
      "7/7 [==============================] - 0s 3ms/step - loss: 3.3922 - val_loss: 3.5596\n",
      "Epoch 51/100\n",
      "7/7 [==============================] - 0s 3ms/step - loss: 3.3702 - val_loss: 3.5403\n",
      "Epoch 52/100\n",
      "7/7 [==============================] - 0s 4ms/step - loss: 3.3513 - val_loss: 3.5363\n",
      "Epoch 53/100\n",
      "7/7 [==============================] - 0s 4ms/step - loss: 3.3453 - val_loss: 3.5215\n",
      "Epoch 54/100\n",
      "7/7 [==============================] - 0s 3ms/step - loss: 3.3258 - val_loss: 3.4932\n",
      "Epoch 55/100\n",
      "7/7 [==============================] - 0s 4ms/step - loss: 3.3075 - val_loss: 3.4735\n",
      "Epoch 56/100\n",
      "7/7 [==============================] - 0s 3ms/step - loss: 3.2916 - val_loss: 3.4410\n",
      "Epoch 57/100\n",
      "7/7 [==============================] - 0s 3ms/step - loss: 3.2718 - val_loss: 3.4249\n",
      "Epoch 58/100\n",
      "7/7 [==============================] - 0s 3ms/step - loss: 3.2580 - val_loss: 3.4116\n",
      "Epoch 59/100\n",
      "7/7 [==============================] - 0s 3ms/step - loss: 3.2449 - val_loss: 3.3793\n",
      "Epoch 60/100\n",
      "7/7 [==============================] - 0s 4ms/step - loss: 3.2318 - val_loss: 3.3582\n",
      "Epoch 61/100\n",
      "7/7 [==============================] - 0s 4ms/step - loss: 3.2141 - val_loss: 3.3393\n",
      "Epoch 62/100\n",
      "7/7 [==============================] - 0s 3ms/step - loss: 3.1996 - val_loss: 3.3130\n",
      "Epoch 63/100\n",
      "7/7 [==============================] - 0s 3ms/step - loss: 3.1864 - val_loss: 3.3008\n",
      "Epoch 64/100\n",
      "7/7 [==============================] - 0s 5ms/step - loss: 3.1760 - val_loss: 3.2972\n",
      "Epoch 65/100\n",
      "7/7 [==============================] - 0s 4ms/step - loss: 3.1642 - val_loss: 3.2859\n",
      "Epoch 66/100\n",
      "7/7 [==============================] - 0s 4ms/step - loss: 3.1511 - val_loss: 3.2899\n",
      "Epoch 67/100\n",
      "7/7 [==============================] - 0s 3ms/step - loss: 3.1406 - val_loss: 3.2753\n",
      "Epoch 68/100\n",
      "7/7 [==============================] - 0s 3ms/step - loss: 3.1301 - val_loss: 3.2606\n",
      "Epoch 69/100\n",
      "7/7 [==============================] - 0s 3ms/step - loss: 3.1207 - val_loss: 3.2626\n",
      "Epoch 70/100\n",
      "7/7 [==============================] - 0s 3ms/step - loss: 3.1080 - val_loss: 3.2508\n",
      "Epoch 71/100\n",
      "7/7 [==============================] - 0s 3ms/step - loss: 3.0991 - val_loss: 3.2464\n",
      "Epoch 72/100\n",
      "7/7 [==============================] - 0s 3ms/step - loss: 3.0889 - val_loss: 3.2394\n",
      "Epoch 73/100\n",
      "7/7 [==============================] - 0s 3ms/step - loss: 3.0798 - val_loss: 3.2277\n",
      "Epoch 74/100\n",
      "7/7 [==============================] - 0s 3ms/step - loss: 3.0668 - val_loss: 3.2164\n",
      "Epoch 75/100\n",
      "7/7 [==============================] - 0s 3ms/step - loss: 3.0596 - val_loss: 3.2161\n",
      "Epoch 76/100\n",
      "7/7 [==============================] - 0s 3ms/step - loss: 3.0516 - val_loss: 3.2003\n",
      "Epoch 77/100\n",
      "7/7 [==============================] - 0s 3ms/step - loss: 3.0431 - val_loss: 3.1989\n",
      "Epoch 78/100\n",
      "7/7 [==============================] - 0s 3ms/step - loss: 3.0288 - val_loss: 3.1810\n",
      "Epoch 79/100\n",
      "7/7 [==============================] - 0s 4ms/step - loss: 3.0216 - val_loss: 3.1650\n",
      "Epoch 80/100\n",
      "7/7 [==============================] - 0s 3ms/step - loss: 3.0072 - val_loss: 3.1561\n",
      "Epoch 81/100\n",
      "7/7 [==============================] - 0s 3ms/step - loss: 3.0005 - val_loss: 3.1529\n",
      "Epoch 82/100\n",
      "7/7 [==============================] - 0s 3ms/step - loss: 2.9961 - val_loss: 3.1433\n",
      "Epoch 83/100\n",
      "7/7 [==============================] - 0s 3ms/step - loss: 2.9872 - val_loss: 3.1511\n",
      "Epoch 84/100\n",
      "7/7 [==============================] - 0s 3ms/step - loss: 2.9744 - val_loss: 3.1386\n",
      "Epoch 85/100\n",
      "7/7 [==============================] - 0s 3ms/step - loss: 2.9663 - val_loss: 3.1347\n",
      "Epoch 86/100\n",
      "7/7 [==============================] - 0s 3ms/step - loss: 2.9580 - val_loss: 3.1136\n",
      "Epoch 87/100\n",
      "7/7 [==============================] - 0s 3ms/step - loss: 2.9464 - val_loss: 3.1014\n",
      "Epoch 88/100\n",
      "7/7 [==============================] - 0s 4ms/step - loss: 2.9402 - val_loss: 3.0846\n",
      "Epoch 89/100\n",
      "7/7 [==============================] - 0s 3ms/step - loss: 2.9360 - val_loss: 3.0629\n",
      "Epoch 90/100\n",
      "7/7 [==============================] - 0s 4ms/step - loss: 2.9281 - val_loss: 3.0697\n",
      "Epoch 91/100\n",
      "7/7 [==============================] - 0s 3ms/step - loss: 2.9174 - val_loss: 3.0508\n",
      "Epoch 92/100\n",
      "7/7 [==============================] - 0s 3ms/step - loss: 2.9048 - val_loss: 3.0437\n",
      "Epoch 93/100\n",
      "7/7 [==============================] - 0s 3ms/step - loss: 2.9012 - val_loss: 3.0483\n",
      "Epoch 94/100\n",
      "7/7 [==============================] - 0s 3ms/step - loss: 2.8902 - val_loss: 3.0333\n",
      "Epoch 95/100\n",
      "7/7 [==============================] - 0s 3ms/step - loss: 2.8827 - val_loss: 3.0151\n",
      "Epoch 96/100\n",
      "7/7 [==============================] - 0s 3ms/step - loss: 2.8749 - val_loss: 2.9979\n",
      "Epoch 97/100\n",
      "7/7 [==============================] - 0s 4ms/step - loss: 2.8665 - val_loss: 2.9919\n",
      "Epoch 98/100\n",
      "7/7 [==============================] - 0s 4ms/step - loss: 2.8619 - val_loss: 2.9834\n",
      "Epoch 99/100\n",
      "7/7 [==============================] - 0s 3ms/step - loss: 2.8528 - val_loss: 2.9805\n",
      "Epoch 100/100\n",
      "7/7 [==============================] - 0s 3ms/step - loss: 2.8462 - val_loss: 2.9657\n"
     ]
    }
   ],
   "source": [
    "model = keras.Sequential([keras.layers.Dense(9, activation='relu'), \n",
    "                          keras.layers.Dense(9, activation='relu'),\n",
    "                          keras.layers.Dense(9, activation='relu'),\n",
    "                          keras.layers.Dense(1)])\n",
    "model.compile(loss='mse',\n",
    "                optimizer='Adam')\n",
    "history = model.fit(x=X_train, y=Y_train, batch_size=45, epochs=100, validation_data=(X_test, Y_test))\n",
    "y_pred = model.predict(X_test)"
   ]
  },
  {
   "cell_type": "code",
   "execution_count": 61,
   "metadata": {},
   "outputs": [
    {
     "name": "stdout",
     "output_type": "stream",
     "text": [
      "MAE: 1.2868408278435777\n",
      "MSE: 2.9656964590038895\n",
      "RMSE: 1.7221197574512317\n",
      "VarScore: 0.5634789885617526\n"
     ]
    },
    {
     "data": {
      "image/png": "[encoded data removed]",
      "text/plain": [
       "<Figure size 720x360 with 1 Axes>"
      ]
     },
     "metadata": {
      "needs_background": "light"
     },
     "output_type": "display_data"
    }
   ],
   "source": [
    "fig = plt.figure(figsize=(10,5))\n",
    "plt.scatter(Y_test,y_pred)\n",
    "plt.plot(Y_test,Y_test,'r')\n",
    "from sklearn import metrics\n",
    "print('MAE:', metrics.mean_absolute_error(Y_test, y_pred))  \n",
    "print('MSE:', metrics.mean_squared_error(Y_test, y_pred))  \n",
    "print('RMSE:', np.sqrt(metrics.mean_squared_error(Y_test, y_pred)))\n",
    "print('VarScore:',metrics.explained_variance_score(Y_test,y_pred))"
   ]
  },
  {
   "cell_type": "code",
   "execution_count": 62,
   "metadata": {},
   "outputs": [
    {
     "data": {
      "text/plain": [
       "<AxesSubplot:>"
      ]
     },
     "execution_count": 62,
     "metadata": {},
     "output_type": "execute_result"
    },
    {
     "data": {
      "image/png": "[encoded data removed]",
      "text/plain": [
       "<Figure size 720x432 with 1 Axes>"
      ]
     },
     "metadata": {
      "needs_background": "light"
     },
     "output_type": "display_data"
    }
   ],
   "source": [
    "loss_df = pd.DataFrame(history.history)\n",
    "loss_df.plot(figsize=(10,6))"
   ]
  },
  {
   "cell_type": "code",
   "execution_count": null,
   "metadata": {},
   "outputs": [],
   "source": []
  }
 ],
 "metadata": {
  "kernelspec": {
   "display_name": "Python 3",
   "language": "python",
   "name": "python3"
  },
  "language_info": {
   "codemirror_mode": {
    "name": "ipython",
    "version": 3
   },
   "file_extension": ".py",
   "mimetype": "text/x-python",
   "name": "python",
   "nbconvert_exporter": "python",
   "pygments_lexer": "ipython3",
   "version": "3.8.5"
  }
 },
 "nbformat": 4,
 "nbformat_minor": 4
}
