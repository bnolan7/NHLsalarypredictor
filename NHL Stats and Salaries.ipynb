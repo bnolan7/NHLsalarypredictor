{
 "cells": [
  {
   "cell_type": "code",
   "execution_count": 1,
   "metadata": {},
   "outputs": [],
   "source": [
    "import numpy as np\n",
    "import matplotlib\n",
    "import matplotlib.pyplot as plt\n",
    "import pandas as pd\n",
    "import sklearn as sk\n",
    "import tensorflow as tf\n",
    "from tensorflow import keras\n",
    "import seaborn as sns"
   ]
  },
  {
   "cell_type": "code",
   "execution_count": 2,
   "metadata": {},
   "outputs": [],
   "source": [
    "data = pd.read_excel(\"C:\\\\Users\\\\bnola\\\\Documents\\\\Coding practice\\\\2018-2019 NHL Stats+Salary.xlsx\")"
   ]
  },
  {
   "cell_type": "code",
   "execution_count": 3,
   "metadata": {
    "scrolled": true
   },
   "outputs": [
    {
     "data": {
      "text/html": [
       "<div>\n",
       "<style scoped>\n",
       "    .dataframe tbody tr th:only-of-type {\n",
       "        vertical-align: middle;\n",
       "    }\n",
       "\n",
       "    .dataframe tbody tr th {\n",
       "        vertical-align: top;\n",
       "    }\n",
       "\n",
       "    .dataframe thead th {\n",
       "        text-align: right;\n",
       "    }\n",
       "</style>\n",
       "<table border=\"1\" class=\"dataframe\">\n",
       "  <thead>\n",
       "    <tr style=\"text-align: right;\">\n",
       "      <th></th>\n",
       "      <th>PLAYER</th>\n",
       "      <th>TEAM</th>\n",
       "      <th>AGE</th>\n",
       "      <th>POS</th>\n",
       "      <th>HANDED</th>\n",
       "      <th>GP</th>\n",
       "      <th>G</th>\n",
       "      <th>A</th>\n",
       "      <th>P</th>\n",
       "      <th>P/GP</th>\n",
       "      <th>+/-</th>\n",
       "      <th>Sh</th>\n",
       "      <th>Sh%</th>\n",
       "      <th>TOI</th>\n",
       "      <th>CAP HIT</th>\n",
       "      <th>SALARY</th>\n",
       "    </tr>\n",
       "  </thead>\n",
       "  <tbody>\n",
       "    <tr>\n",
       "      <th>0</th>\n",
       "      <td>1. Zdeno Chara</td>\n",
       "      <td>BOS</td>\n",
       "      <td>41</td>\n",
       "      <td>LD</td>\n",
       "      <td>Left</td>\n",
       "      <td>62</td>\n",
       "      <td>5</td>\n",
       "      <td>9</td>\n",
       "      <td>14</td>\n",
       "      <td>0.23</td>\n",
       "      <td>22</td>\n",
       "      <td>99</td>\n",
       "      <td>0.05</td>\n",
       "      <td>21:04:00</td>\n",
       "      <td>5000000</td>\n",
       "      <td>5000000</td>\n",
       "    </tr>\n",
       "    <tr>\n",
       "      <th>1</th>\n",
       "      <td>2. Marián Hossa</td>\n",
       "      <td>ARI</td>\n",
       "      <td>39</td>\n",
       "      <td>RW</td>\n",
       "      <td>Left</td>\n",
       "      <td>0</td>\n",
       "      <td>0</td>\n",
       "      <td>0</td>\n",
       "      <td>0</td>\n",
       "      <td>0</td>\n",
       "      <td>0</td>\n",
       "      <td>0</td>\n",
       "      <td>0</td>\n",
       "      <td>NaN</td>\n",
       "      <td>5275000</td>\n",
       "      <td>1000000</td>\n",
       "    </tr>\n",
       "    <tr>\n",
       "      <th>2</th>\n",
       "      <td>3. Joe Thornton</td>\n",
       "      <td>SJS</td>\n",
       "      <td>38</td>\n",
       "      <td>C</td>\n",
       "      <td>Left</td>\n",
       "      <td>73</td>\n",
       "      <td>16</td>\n",
       "      <td>35</td>\n",
       "      <td>51</td>\n",
       "      <td>0.7</td>\n",
       "      <td>8</td>\n",
       "      <td>90</td>\n",
       "      <td>0.18</td>\n",
       "      <td>15:32:00</td>\n",
       "      <td>5000000</td>\n",
       "      <td>5000000</td>\n",
       "    </tr>\n",
       "    <tr>\n",
       "      <th>3</th>\n",
       "      <td>4. Johan Franzen</td>\n",
       "      <td>DET</td>\n",
       "      <td>38</td>\n",
       "      <td>RW, LW</td>\n",
       "      <td>Left</td>\n",
       "      <td>0</td>\n",
       "      <td>0</td>\n",
       "      <td>0</td>\n",
       "      <td>0</td>\n",
       "      <td>0</td>\n",
       "      <td>0</td>\n",
       "      <td>0</td>\n",
       "      <td>0</td>\n",
       "      <td>NaN</td>\n",
       "      <td>3954545</td>\n",
       "      <td>1000000</td>\n",
       "    </tr>\n",
       "    <tr>\n",
       "      <th>4</th>\n",
       "      <td>5. Ryan Miller</td>\n",
       "      <td>ANA</td>\n",
       "      <td>37</td>\n",
       "      <td>G</td>\n",
       "      <td>Left</td>\n",
       "      <td>20</td>\n",
       "      <td>-</td>\n",
       "      <td>-</td>\n",
       "      <td>-</td>\n",
       "      <td>-</td>\n",
       "      <td>-</td>\n",
       "      <td>-</td>\n",
       "      <td>-</td>\n",
       "      <td>-</td>\n",
       "      <td>2000000</td>\n",
       "      <td>2000000</td>\n",
       "    </tr>\n",
       "    <tr>\n",
       "      <th>...</th>\n",
       "      <td>...</td>\n",
       "      <td>...</td>\n",
       "      <td>...</td>\n",
       "      <td>...</td>\n",
       "      <td>...</td>\n",
       "      <td>...</td>\n",
       "      <td>...</td>\n",
       "      <td>...</td>\n",
       "      <td>...</td>\n",
       "      <td>...</td>\n",
       "      <td>...</td>\n",
       "      <td>...</td>\n",
       "      <td>...</td>\n",
       "      <td>...</td>\n",
       "      <td>...</td>\n",
       "      <td>...</td>\n",
       "    </tr>\n",
       "    <tr>\n",
       "      <th>495</th>\n",
       "      <td>496. Sean Kuraly</td>\n",
       "      <td>BOS</td>\n",
       "      <td>25</td>\n",
       "      <td>C, LW</td>\n",
       "      <td>Left</td>\n",
       "      <td>71</td>\n",
       "      <td>8</td>\n",
       "      <td>13</td>\n",
       "      <td>21</td>\n",
       "      <td>0.3</td>\n",
       "      <td>6</td>\n",
       "      <td>134</td>\n",
       "      <td>0.06</td>\n",
       "      <td>13:46:00</td>\n",
       "      <td>1275000</td>\n",
       "      <td>1300000</td>\n",
       "    </tr>\n",
       "    <tr>\n",
       "      <th>496</th>\n",
       "      <td>497. Matt Puempel</td>\n",
       "      <td>DET</td>\n",
       "      <td>25</td>\n",
       "      <td>LW</td>\n",
       "      <td>Left</td>\n",
       "      <td>8</td>\n",
       "      <td>1</td>\n",
       "      <td>0</td>\n",
       "      <td>1</td>\n",
       "      <td>0.13</td>\n",
       "      <td>-2</td>\n",
       "      <td>10</td>\n",
       "      <td>0.1</td>\n",
       "      <td>10:24:00</td>\n",
       "      <td>675000</td>\n",
       "      <td>650000</td>\n",
       "    </tr>\n",
       "    <tr>\n",
       "      <th>497</th>\n",
       "      <td>498. Rocco Grimaldi</td>\n",
       "      <td>NSH</td>\n",
       "      <td>25</td>\n",
       "      <td>LW, RW</td>\n",
       "      <td>Right</td>\n",
       "      <td>53</td>\n",
       "      <td>5</td>\n",
       "      <td>8</td>\n",
       "      <td>13</td>\n",
       "      <td>0.25</td>\n",
       "      <td>-2</td>\n",
       "      <td>81</td>\n",
       "      <td>0.06</td>\n",
       "      <td>10:00:00</td>\n",
       "      <td>650000</td>\n",
       "      <td>650000</td>\n",
       "    </tr>\n",
       "    <tr>\n",
       "      <th>498</th>\n",
       "      <td>499. Dillon Simpson</td>\n",
       "      <td>CBJ</td>\n",
       "      <td>25</td>\n",
       "      <td>LD</td>\n",
       "      <td>Left</td>\n",
       "      <td>0</td>\n",
       "      <td>0</td>\n",
       "      <td>0</td>\n",
       "      <td>0</td>\n",
       "      <td>0</td>\n",
       "      <td>0</td>\n",
       "      <td>0</td>\n",
       "      <td>0</td>\n",
       "      <td>NaN</td>\n",
       "      <td>675000</td>\n",
       "      <td>650000</td>\n",
       "    </tr>\n",
       "    <tr>\n",
       "      <th>499</th>\n",
       "      <td>500. Stefan Noesen</td>\n",
       "      <td>SJS</td>\n",
       "      <td>25</td>\n",
       "      <td>RW, LW</td>\n",
       "      <td>Right</td>\n",
       "      <td>41</td>\n",
       "      <td>3</td>\n",
       "      <td>5</td>\n",
       "      <td>8</td>\n",
       "      <td>0.2</td>\n",
       "      <td>-19</td>\n",
       "      <td>64</td>\n",
       "      <td>0.05</td>\n",
       "      <td>12:43:00</td>\n",
       "      <td>1725000</td>\n",
       "      <td>1725000</td>\n",
       "    </tr>\n",
       "  </tbody>\n",
       "</table>\n",
       "<p>500 rows × 16 columns</p>\n",
       "</div>"
      ],
      "text/plain": [
       "                  PLAYER TEAM  AGE     POS HANDED  GP   G   A   P  P/GP  +/-  \\\n",
       "0         1. Zdeno Chara  BOS   41      LD   Left  62   5   9  14  0.23   22   \n",
       "1        2. Marián Hossa  ARI   39      RW   Left   0   0   0   0     0    0   \n",
       "2        3. Joe Thornton  SJS   38       C   Left  73  16  35  51   0.7    8   \n",
       "3       4. Johan Franzen  DET   38  RW, LW   Left   0   0   0   0     0    0   \n",
       "4         5. Ryan Miller  ANA   37       G   Left  20   -   -   -     -    -   \n",
       "..                   ...  ...  ...     ...    ...  ..  ..  ..  ..   ...  ...   \n",
       "495     496. Sean Kuraly  BOS   25   C, LW   Left  71   8  13  21   0.3    6   \n",
       "496    497. Matt Puempel  DET   25      LW   Left   8   1   0   1  0.13   -2   \n",
       "497  498. Rocco Grimaldi  NSH   25  LW, RW  Right  53   5   8  13  0.25   -2   \n",
       "498  499. Dillon Simpson  CBJ   25      LD   Left   0   0   0   0     0    0   \n",
       "499   500. Stefan Noesen  SJS   25  RW, LW  Right  41   3   5   8   0.2  -19   \n",
       "\n",
       "      Sh   Sh%       TOI  CAP HIT   SALARY  \n",
       "0     99  0.05  21:04:00  5000000  5000000  \n",
       "1      0     0       NaN  5275000  1000000  \n",
       "2     90  0.18  15:32:00  5000000  5000000  \n",
       "3      0     0       NaN  3954545  1000000  \n",
       "4      -     -         -  2000000  2000000  \n",
       "..   ...   ...       ...      ...      ...  \n",
       "495  134  0.06  13:46:00  1275000  1300000  \n",
       "496   10   0.1  10:24:00   675000   650000  \n",
       "497   81  0.06  10:00:00   650000   650000  \n",
       "498    0     0       NaN   675000   650000  \n",
       "499   64  0.05  12:43:00  1725000  1725000  \n",
       "\n",
       "[500 rows x 16 columns]"
      ]
     },
     "execution_count": 3,
     "metadata": {},
     "output_type": "execute_result"
    }
   ],
   "source": [
    "data"
   ]
  },
  {
   "cell_type": "code",
   "execution_count": 4,
   "metadata": {},
   "outputs": [],
   "source": [
    "df = data.dropna(axis=0, how='any')"
   ]
  },
  {
   "cell_type": "code",
   "execution_count": 5,
   "metadata": {},
   "outputs": [],
   "source": [
    "players = df.mask(df.POS == 'G')\n",
    "players = players.dropna(axis=0, how='any')"
   ]
  },
  {
   "cell_type": "code",
   "execution_count": 6,
   "metadata": {},
   "outputs": [],
   "source": [
    "players = players.drop(['TOI', 'CAP HIT'], axis=1)"
   ]
  },
  {
   "cell_type": "code",
   "execution_count": 7,
   "metadata": {},
   "outputs": [],
   "source": [
    "Y = players['SALARY'].values"
   ]
  },
  {
   "cell_type": "code",
   "execution_count": 8,
   "metadata": {},
   "outputs": [],
   "source": [
    "Y = Y/1000000.000"
   ]
  },
  {
   "cell_type": "code",
   "execution_count": 9,
   "metadata": {},
   "outputs": [],
   "source": [
    "X = players.drop(['PLAYER','TEAM', 'POS', 'HANDED', 'Sh', 'SALARY'], axis=1).values"
   ]
  },
  {
   "cell_type": "code",
   "execution_count": 10,
   "metadata": {},
   "outputs": [
    {
     "data": {
      "image/png": "[encoded data removed]",
      "text/plain": [
       "<Figure size 720x504 with 2 Axes>"
      ]
     },
     "metadata": {
      "needs_background": "light"
     },
     "output_type": "display_data"
    }
   ],
   "source": [
    "fig = plt.figure(figsize=(10,7))\n",
    "fig.add_subplot(2,1,1)\n",
    "sns.histplot(data=Y)\n",
    "fig.add_subplot(2,1,2)\n",
    "sns.boxplot(data=Y, orient='h')\n",
    "plt.tight_layout()"
   ]
  },
  {
   "cell_type": "code",
   "execution_count": 11,
   "metadata": {},
   "outputs": [
    {
     "data": {
      "image/png": "[encoded data removed]",
      "text/plain": [
       "<Figure size 1296x360 with 4 Axes>"
      ]
     },
     "metadata": {
      "needs_background": "light"
     },
     "output_type": "display_data"
    }
   ],
   "source": [
    "fig = plt.figure(figsize=(18,5));\n",
    "fig.add_subplot(2,2,1)\n",
    "sns.scatterplot(x=players['P'],y= Y)\n",
    "fig.add_subplot(2,2,2)\n",
    "sns.scatterplot(x=players['G'],y= Y)\n",
    "fig.add_subplot(2,2,3)\n",
    "sns.scatterplot(x=players['Sh%'],y= Y)\n",
    "fig.add_subplot(2,2,4)\n",
    "sns.scatterplot(x=players['AGE'],y= Y);\n",
    "fig.tight_layout()"
   ]
  },
  {
   "cell_type": "code",
   "execution_count": 12,
   "metadata": {},
   "outputs": [],
   "source": [
    "from sklearn.model_selection import train_test_split\n",
    "X_train, X_test, Y_train, Y_test = train_test_split(X, Y, test_size = 0.25)"
   ]
  },
  {
   "cell_type": "code",
   "execution_count": 13,
   "metadata": {},
   "outputs": [],
   "source": [
    "from sklearn import preprocessing\n",
    "s_scaler = preprocessing.StandardScaler()\n",
    "X_train = s_scaler.fit_transform(X_train.astype(np.float))\n",
    "X_test = s_scaler.transform(X_test.astype(np.float))"
   ]
  },
  {
   "cell_type": "code",
   "execution_count": 14,
   "metadata": {},
   "outputs": [
    {
     "name": "stdout",
     "output_type": "stream",
     "text": [
      "3.618083618556701\n",
      "[ 0.56329708  0.18668899  0.15860613  0.4229836   0.33727363  1.25889167\n",
      " -0.22494565 -0.46830259]\n"
     ]
    }
   ],
   "source": [
    "from sklearn.linear_model import LinearRegression\n",
    "regressor = LinearRegression()\n",
    "regressor.fit(X_train, Y_train)\n",
    "print(regressor.intercept_)\n",
    "print(regressor.coef_)"
   ]
  },
  {
   "cell_type": "code",
   "execution_count": 15,
   "metadata": {},
   "outputs": [],
   "source": [
    "y_pred_reg = regressor.predict(X_test)"
   ]
  },
  {
   "cell_type": "code",
   "execution_count": 16,
   "metadata": {},
   "outputs": [
    {
     "data": {
      "text/html": [
       "<div>\n",
       "<style scoped>\n",
       "    .dataframe tbody tr th:only-of-type {\n",
       "        vertical-align: middle;\n",
       "    }\n",
       "\n",
       "    .dataframe tbody tr th {\n",
       "        vertical-align: top;\n",
       "    }\n",
       "\n",
       "    .dataframe thead th {\n",
       "        text-align: right;\n",
       "    }\n",
       "</style>\n",
       "<table border=\"1\" class=\"dataframe\">\n",
       "  <thead>\n",
       "    <tr style=\"text-align: right;\">\n",
       "      <th></th>\n",
       "      <th>Coefficient</th>\n",
       "    </tr>\n",
       "  </thead>\n",
       "  <tbody>\n",
       "    <tr>\n",
       "      <th>AGE</th>\n",
       "      <td>0.563297</td>\n",
       "    </tr>\n",
       "    <tr>\n",
       "      <th>GP</th>\n",
       "      <td>0.186689</td>\n",
       "    </tr>\n",
       "    <tr>\n",
       "      <th>G</th>\n",
       "      <td>0.158606</td>\n",
       "    </tr>\n",
       "    <tr>\n",
       "      <th>A</th>\n",
       "      <td>0.422984</td>\n",
       "    </tr>\n",
       "    <tr>\n",
       "      <th>P</th>\n",
       "      <td>0.337274</td>\n",
       "    </tr>\n",
       "    <tr>\n",
       "      <th>P/GP</th>\n",
       "      <td>1.258892</td>\n",
       "    </tr>\n",
       "    <tr>\n",
       "      <th>+/-</th>\n",
       "      <td>-0.224946</td>\n",
       "    </tr>\n",
       "    <tr>\n",
       "      <th>Sh%</th>\n",
       "      <td>-0.468303</td>\n",
       "    </tr>\n",
       "  </tbody>\n",
       "</table>\n",
       "</div>"
      ],
      "text/plain": [
       "      Coefficient\n",
       "AGE      0.563297\n",
       "GP       0.186689\n",
       "G        0.158606\n",
       "A        0.422984\n",
       "P        0.337274\n",
       "P/GP     1.258892\n",
       "+/-     -0.224946\n",
       "Sh%     -0.468303"
      ]
     },
     "execution_count": 16,
     "metadata": {},
     "output_type": "execute_result"
    }
   ],
   "source": [
    "coeff_df = pd.DataFrame(regressor.coef_, players.drop(['PLAYER','TEAM', 'POS', 'HANDED', 'Sh', 'SALARY'], axis=1).columns, columns=['Coefficient'])\n",
    "coeff_df"
   ]
  },
  {
   "cell_type": "code",
   "execution_count": 17,
   "metadata": {},
   "outputs": [
    {
     "data": {
      "text/plain": [
       "<Figure size 720x360 with 0 Axes>"
      ]
     },
     "metadata": {},
     "output_type": "display_data"
    },
    {
     "data": {
      "image/png": "[encoded data removed]",
      "text/plain": [
       "<Figure size 360x360 with 1 Axes>"
      ]
     },
     "metadata": {
      "needs_background": "light"
     },
     "output_type": "display_data"
    }
   ],
   "source": [
    "fig = plt.figure(figsize=(10,5));\n",
    "resids = (Y_test - y_pred_reg)\n",
    "sns.displot(resids);"
   ]
  },
  {
   "cell_type": "code",
   "execution_count": 26,
   "metadata": {},
   "outputs": [
    {
     "data": {
      "text/html": [
       "<div>\n",
       "<style scoped>\n",
       "    .dataframe tbody tr th:only-of-type {\n",
       "        vertical-align: middle;\n",
       "    }\n",
       "\n",
       "    .dataframe tbody tr th {\n",
       "        vertical-align: top;\n",
       "    }\n",
       "\n",
       "    .dataframe thead th {\n",
       "        text-align: right;\n",
       "    }\n",
       "</style>\n",
       "<table border=\"1\" class=\"dataframe\">\n",
       "  <thead>\n",
       "    <tr style=\"text-align: right;\">\n",
       "      <th></th>\n",
       "      <th>Actual</th>\n",
       "      <th>Predicted</th>\n",
       "    </tr>\n",
       "  </thead>\n",
       "  <tbody>\n",
       "    <tr>\n",
       "      <th>0</th>\n",
       "      <td>6.00</td>\n",
       "      <td>3.228608</td>\n",
       "    </tr>\n",
       "    <tr>\n",
       "      <th>1</th>\n",
       "      <td>2.10</td>\n",
       "      <td>2.408085</td>\n",
       "    </tr>\n",
       "    <tr>\n",
       "      <th>2</th>\n",
       "      <td>0.95</td>\n",
       "      <td>1.572587</td>\n",
       "    </tr>\n",
       "    <tr>\n",
       "      <th>3</th>\n",
       "      <td>2.00</td>\n",
       "      <td>3.666814</td>\n",
       "    </tr>\n",
       "    <tr>\n",
       "      <th>4</th>\n",
       "      <td>0.65</td>\n",
       "      <td>1.210601</td>\n",
       "    </tr>\n",
       "    <tr>\n",
       "      <th>5</th>\n",
       "      <td>2.00</td>\n",
       "      <td>2.149070</td>\n",
       "    </tr>\n",
       "    <tr>\n",
       "      <th>6</th>\n",
       "      <td>3.75</td>\n",
       "      <td>3.721188</td>\n",
       "    </tr>\n",
       "    <tr>\n",
       "      <th>7</th>\n",
       "      <td>2.35</td>\n",
       "      <td>2.849395</td>\n",
       "    </tr>\n",
       "    <tr>\n",
       "      <th>8</th>\n",
       "      <td>1.10</td>\n",
       "      <td>3.908702</td>\n",
       "    </tr>\n",
       "    <tr>\n",
       "      <th>9</th>\n",
       "      <td>4.50</td>\n",
       "      <td>6.073281</td>\n",
       "    </tr>\n",
       "  </tbody>\n",
       "</table>\n",
       "</div>"
      ],
      "text/plain": [
       "   Actual  Predicted\n",
       "0    6.00   3.228608\n",
       "1    2.10   2.408085\n",
       "2    0.95   1.572587\n",
       "3    2.00   3.666814\n",
       "4    0.65   1.210601\n",
       "5    2.00   2.149070\n",
       "6    3.75   3.721188\n",
       "7    2.35   2.849395\n",
       "8    1.10   3.908702\n",
       "9    4.50   6.073281"
      ]
     },
     "execution_count": 26,
     "metadata": {},
     "output_type": "execute_result"
    }
   ],
   "source": [
    "y_pred = regressor.predict(X_test)\n",
    "df = pd.DataFrame({'Actual': Y_test, 'Predicted': y_pred})\n",
    "df1 = df.head(10)\n",
    "df1"
   ]
  },
  {
   "cell_type": "code",
   "execution_count": 27,
   "metadata": {},
   "outputs": [
    {
     "name": "stdout",
     "output_type": "stream",
     "text": [
      "MAE: 1.4019234205184368\n",
      "MSE: 2.998895095196835\n",
      "RMSE: 1.7317318196524643\n",
      "VarScore: 0.6307704454270562\n"
     ]
    }
   ],
   "source": [
    "# evaluate the performance of the algorithm (MAE - MSE - RMSE)\n",
    "from sklearn import metrics\n",
    "print('MAE:', metrics.mean_absolute_error(Y_test, y_pred))  \n",
    "print('MSE:', metrics.mean_squared_error(Y_test, y_pred))  \n",
    "print('RMSE:', np.sqrt(metrics.mean_squared_error(Y_test, y_pred)))\n",
    "print('VarScore:',metrics.explained_variance_score(Y_test,y_pred))"
   ]
  },
  {
   "cell_type": "code",
   "execution_count": 19,
   "metadata": {},
   "outputs": [
    {
     "data": {
      "image/png": "[encoded data removed]",
      "text/plain": [
       "<Figure size 432x288 with 1 Axes>"
      ]
     },
     "metadata": {
      "needs_background": "light"
     },
     "output_type": "display_data"
    }
   ],
   "source": [
    "sns.scatterplot(x = df['Actual'], y = df['Predicted']);"
   ]
  },
  {
   "cell_type": "code",
   "execution_count": 23,
   "metadata": {},
   "outputs": [
    {
     "name": "stdout",
     "output_type": "stream",
     "text": [
      "Epoch 1/100\n",
      "10/10 [==============================] - 0s 10ms/step - loss: 24.2321 - val_loss: 28.5736\n",
      "Epoch 2/100\n",
      "10/10 [==============================] - 0s 2ms/step - loss: 23.0652 - val_loss: 27.4961\n",
      "Epoch 3/100\n",
      "10/10 [==============================] - 0s 2ms/step - loss: 22.1235 - val_loss: 26.7069\n",
      "Epoch 4/100\n",
      "10/10 [==============================] - 0s 2ms/step - loss: 21.4043 - val_loss: 26.0319\n",
      "Epoch 5/100\n",
      "10/10 [==============================] - 0s 2ms/step - loss: 20.8005 - val_loss: 25.4260\n",
      "Epoch 6/100\n",
      "10/10 [==============================] - 0s 2ms/step - loss: 20.2351 - val_loss: 24.9168\n",
      "Epoch 7/100\n",
      "10/10 [==============================] - 0s 2ms/step - loss: 19.7965 - val_loss: 24.5113\n",
      "Epoch 8/100\n",
      "10/10 [==============================] - 0s 2ms/step - loss: 19.4373 - val_loss: 24.1555\n",
      "Epoch 9/100\n",
      "10/10 [==============================] - 0s 2ms/step - loss: 19.0835 - val_loss: 23.7876\n",
      "Epoch 10/100\n",
      "10/10 [==============================] - 0s 3ms/step - loss: 18.7226 - val_loss: 23.3752\n",
      "Epoch 11/100\n",
      "10/10 [==============================] - 0s 2ms/step - loss: 18.2872 - val_loss: 22.9007\n",
      "Epoch 12/100\n",
      "10/10 [==============================] - 0s 2ms/step - loss: 17.7759 - val_loss: 22.2624\n",
      "Epoch 13/100\n",
      "10/10 [==============================] - 0s 2ms/step - loss: 17.0236 - val_loss: 21.4328\n",
      "Epoch 14/100\n",
      "10/10 [==============================] - 0s 2ms/step - loss: 16.1376 - val_loss: 20.4564\n",
      "Epoch 15/100\n",
      "10/10 [==============================] - 0s 3ms/step - loss: 15.1597 - val_loss: 19.3698\n",
      "Epoch 16/100\n",
      "10/10 [==============================] - 0s 2ms/step - loss: 14.0939 - val_loss: 18.0836\n",
      "Epoch 17/100\n",
      "10/10 [==============================] - 0s 3ms/step - loss: 12.8023 - val_loss: 16.6152\n",
      "Epoch 18/100\n",
      "10/10 [==============================] - 0s 2ms/step - loss: 11.4141 - val_loss: 15.0742\n",
      "Epoch 19/100\n",
      "10/10 [==============================] - 0s 2ms/step - loss: 9.9677 - val_loss: 13.5587\n",
      "Epoch 20/100\n",
      "10/10 [==============================] - 0s 2ms/step - loss: 8.6921 - val_loss: 12.0547\n",
      "Epoch 21/100\n",
      "10/10 [==============================] - 0s 2ms/step - loss: 7.5397 - val_loss: 10.7224\n",
      "Epoch 22/100\n",
      "10/10 [==============================] - 0s 2ms/step - loss: 6.6514 - val_loss: 9.5784\n",
      "Epoch 23/100\n",
      "10/10 [==============================] - 0s 2ms/step - loss: 5.9500 - val_loss: 8.7273\n",
      "Epoch 24/100\n",
      "10/10 [==============================] - 0s 2ms/step - loss: 5.5746 - val_loss: 8.0204\n",
      "Epoch 25/100\n",
      "10/10 [==============================] - 0s 2ms/step - loss: 5.2744 - val_loss: 7.5575\n",
      "Epoch 26/100\n",
      "10/10 [==============================] - 0s 3ms/step - loss: 5.0910 - val_loss: 7.2373\n",
      "Epoch 27/100\n",
      "10/10 [==============================] - 0s 2ms/step - loss: 4.9591 - val_loss: 6.9815\n",
      "Epoch 28/100\n",
      "10/10 [==============================] - 0s 2ms/step - loss: 4.8586 - val_loss: 6.7490\n",
      "Epoch 29/100\n",
      "10/10 [==============================] - 0s 2ms/step - loss: 4.7426 - val_loss: 6.5957\n",
      "Epoch 30/100\n",
      "10/10 [==============================] - 0s 3ms/step - loss: 4.6437 - val_loss: 6.4154\n",
      "Epoch 31/100\n",
      "10/10 [==============================] - 0s 2ms/step - loss: 4.5447 - val_loss: 6.2529\n",
      "Epoch 32/100\n",
      "10/10 [==============================] - 0s 2ms/step - loss: 4.4558 - val_loss: 6.0805\n",
      "Epoch 33/100\n",
      "10/10 [==============================] - 0s 4ms/step - loss: 4.3684 - val_loss: 5.9322\n",
      "Epoch 34/100\n",
      "10/10 [==============================] - 0s 2ms/step - loss: 4.2906 - val_loss: 5.7691\n",
      "Epoch 35/100\n",
      "10/10 [==============================] - 0s 2ms/step - loss: 4.2050 - val_loss: 5.6128\n",
      "Epoch 36/100\n",
      "10/10 [==============================] - 0s 2ms/step - loss: 4.1229 - val_loss: 5.4899\n",
      "Epoch 37/100\n",
      "10/10 [==============================] - 0s 2ms/step - loss: 4.0473 - val_loss: 5.3898\n",
      "Epoch 38/100\n",
      "10/10 [==============================] - 0s 2ms/step - loss: 3.9704 - val_loss: 5.2219\n",
      "Epoch 39/100\n",
      "10/10 [==============================] - 0s 2ms/step - loss: 3.8981 - val_loss: 5.0926\n",
      "Epoch 40/100\n",
      "10/10 [==============================] - 0s 3ms/step - loss: 3.8314 - val_loss: 4.9421\n",
      "Epoch 41/100\n",
      "10/10 [==============================] - 0s 2ms/step - loss: 3.7673 - val_loss: 4.8573\n",
      "Epoch 42/100\n",
      "10/10 [==============================] - 0s 2ms/step - loss: 3.6982 - val_loss: 4.7103\n",
      "Epoch 43/100\n",
      "10/10 [==============================] - 0s 3ms/step - loss: 3.6367 - val_loss: 4.5957\n",
      "Epoch 44/100\n",
      "10/10 [==============================] - 0s 2ms/step - loss: 3.5833 - val_loss: 4.4943\n",
      "Epoch 45/100\n",
      "10/10 [==============================] - 0s 2ms/step - loss: 3.5269 - val_loss: 4.4077\n",
      "Epoch 46/100\n",
      "10/10 [==============================] - 0s 3ms/step - loss: 3.4750 - val_loss: 4.3120\n",
      "Epoch 47/100\n",
      "10/10 [==============================] - 0s 2ms/step - loss: 3.4263 - val_loss: 4.2174\n",
      "Epoch 48/100\n",
      "10/10 [==============================] - 0s 3ms/step - loss: 3.3927 - val_loss: 4.1596\n",
      "Epoch 49/100\n",
      "10/10 [==============================] - 0s 2ms/step - loss: 3.3362 - val_loss: 4.0328\n",
      "Epoch 50/100\n",
      "10/10 [==============================] - 0s 3ms/step - loss: 3.2895 - val_loss: 3.9665\n",
      "Epoch 51/100\n",
      "10/10 [==============================] - 0s 2ms/step - loss: 3.2542 - val_loss: 3.8724\n",
      "Epoch 52/100\n",
      "10/10 [==============================] - 0s 3ms/step - loss: 3.2204 - val_loss: 3.8167\n",
      "Epoch 53/100\n",
      "10/10 [==============================] - 0s 2ms/step - loss: 3.1955 - val_loss: 3.7464\n",
      "Epoch 54/100\n",
      "10/10 [==============================] - 0s 2ms/step - loss: 3.1725 - val_loss: 3.6803\n",
      "Epoch 55/100\n",
      "10/10 [==============================] - 0s 3ms/step - loss: 3.1493 - val_loss: 3.6416\n",
      "Epoch 56/100\n",
      "10/10 [==============================] - 0s 2ms/step - loss: 3.1305 - val_loss: 3.6352\n",
      "Epoch 57/100\n",
      "10/10 [==============================] - 0s 3ms/step - loss: 3.1076 - val_loss: 3.5965\n",
      "Epoch 58/100\n",
      "10/10 [==============================] - 0s 2ms/step - loss: 3.0963 - val_loss: 3.5727\n",
      "Epoch 59/100\n",
      "10/10 [==============================] - 0s 2ms/step - loss: 3.0792 - val_loss: 3.5138\n",
      "Epoch 60/100\n",
      "10/10 [==============================] - 0s 2ms/step - loss: 3.0612 - val_loss: 3.4987\n",
      "Epoch 61/100\n",
      "10/10 [==============================] - 0s 3ms/step - loss: 3.0465 - val_loss: 3.4731\n",
      "Epoch 62/100\n",
      "10/10 [==============================] - 0s 2ms/step - loss: 3.0359 - val_loss: 3.4434\n",
      "Epoch 63/100\n",
      "10/10 [==============================] - 0s 3ms/step - loss: 3.0274 - val_loss: 3.4359\n",
      "Epoch 64/100\n",
      "10/10 [==============================] - 0s 2ms/step - loss: 3.0140 - val_loss: 3.3999\n",
      "Epoch 65/100\n",
      "10/10 [==============================] - 0s 2ms/step - loss: 3.0044 - val_loss: 3.4129\n",
      "Epoch 66/100\n",
      "10/10 [==============================] - 0s 3ms/step - loss: 2.9920 - val_loss: 3.3983\n",
      "Epoch 67/100\n",
      "10/10 [==============================] - 0s 3ms/step - loss: 2.9793 - val_loss: 3.3644\n",
      "Epoch 68/100\n",
      "10/10 [==============================] - 0s 2ms/step - loss: 2.9684 - val_loss: 3.3317\n",
      "Epoch 69/100\n",
      "10/10 [==============================] - 0s 2ms/step - loss: 2.9570 - val_loss: 3.3272\n",
      "Epoch 70/100\n",
      "10/10 [==============================] - 0s 3ms/step - loss: 2.9540 - val_loss: 3.2881\n",
      "Epoch 71/100\n",
      "10/10 [==============================] - 0s 2ms/step - loss: 2.9419 - val_loss: 3.3154\n",
      "Epoch 72/100\n",
      "10/10 [==============================] - 0s 2ms/step - loss: 2.9284 - val_loss: 3.2916\n",
      "Epoch 73/100\n",
      "10/10 [==============================] - 0s 2ms/step - loss: 2.9160 - val_loss: 3.2940\n",
      "Epoch 74/100\n",
      "10/10 [==============================] - 0s 2ms/step - loss: 2.9078 - val_loss: 3.2710\n",
      "Epoch 75/100\n",
      "10/10 [==============================] - 0s 3ms/step - loss: 2.8964 - val_loss: 3.2613\n",
      "Epoch 76/100\n",
      "10/10 [==============================] - 0s 2ms/step - loss: 2.8893 - val_loss: 3.2502\n",
      "Epoch 77/100\n",
      "10/10 [==============================] - 0s 3ms/step - loss: 2.8787 - val_loss: 3.2418\n",
      "Epoch 78/100\n",
      "10/10 [==============================] - 0s 2ms/step - loss: 2.8697 - val_loss: 3.2542\n",
      "Epoch 79/100\n",
      "10/10 [==============================] - 0s 2ms/step - loss: 2.8686 - val_loss: 3.2245\n",
      "Epoch 80/100\n",
      "10/10 [==============================] - 0s 2ms/step - loss: 2.8535 - val_loss: 3.2275\n",
      "Epoch 81/100\n",
      "10/10 [==============================] - 0s 2ms/step - loss: 2.8441 - val_loss: 3.2186\n",
      "Epoch 82/100\n",
      "10/10 [==============================] - 0s 3ms/step - loss: 2.8394 - val_loss: 3.2238\n",
      "Epoch 83/100\n",
      "10/10 [==============================] - 0s 2ms/step - loss: 2.8471 - val_loss: 3.1711\n",
      "Epoch 84/100\n",
      "10/10 [==============================] - 0s 3ms/step - loss: 2.8182 - val_loss: 3.1826\n",
      "Epoch 85/100\n",
      "10/10 [==============================] - 0s 2ms/step - loss: 2.8064 - val_loss: 3.1799\n",
      "Epoch 86/100\n",
      "10/10 [==============================] - 0s 3ms/step - loss: 2.8016 - val_loss: 3.1694\n",
      "Epoch 87/100\n",
      "10/10 [==============================] - 0s 2ms/step - loss: 2.7970 - val_loss: 3.1427\n",
      "Epoch 88/100\n",
      "10/10 [==============================] - 0s 2ms/step - loss: 2.7828 - val_loss: 3.1416\n",
      "Epoch 89/100\n",
      "10/10 [==============================] - 0s 3ms/step - loss: 2.7734 - val_loss: 3.1560\n",
      "Epoch 90/100\n",
      "10/10 [==============================] - 0s 2ms/step - loss: 2.7781 - val_loss: 3.1199\n",
      "Epoch 91/100\n",
      "10/10 [==============================] - 0s 3ms/step - loss: 2.7575 - val_loss: 3.1348\n",
      "Epoch 92/100\n",
      "10/10 [==============================] - 0s 2ms/step - loss: 2.7523 - val_loss: 3.1361\n",
      "Epoch 93/100\n",
      "10/10 [==============================] - 0s 3ms/step - loss: 2.7463 - val_loss: 3.1126\n",
      "Epoch 94/100\n",
      "10/10 [==============================] - ETA: 0s - loss: 1.907 - 0s 3ms/step - loss: 2.7400 - val_loss: 3.1148\n",
      "Epoch 95/100\n",
      "10/10 [==============================] - 0s 2ms/step - loss: 2.7278 - val_loss: 3.0942\n",
      "Epoch 96/100\n",
      "10/10 [==============================] - 0s 2ms/step - loss: 2.7204 - val_loss: 3.0834\n",
      "Epoch 97/100\n",
      "10/10 [==============================] - 0s 2ms/step - loss: 2.7183 - val_loss: 3.0963\n",
      "Epoch 98/100\n",
      "10/10 [==============================] - 0s 3ms/step - loss: 2.7145 - val_loss: 3.0661\n",
      "Epoch 99/100\n",
      "10/10 [==============================] - 0s 3ms/step - loss: 2.7025 - val_loss: 3.0747\n",
      "Epoch 100/100\n",
      "10/10 [==============================] - 0s 4ms/step - loss: 2.6976 - val_loss: 3.0808\n"
     ]
    }
   ],
   "source": [
    "model = keras.Sequential([keras.layers.Dense(8, activation='relu'), \n",
    "                          keras.layers.Dense(8, activation='relu'),\n",
    "                          keras.layers.Dense(8, activation='relu'),\n",
    "                          keras.layers.Dense(1)])\n",
    "model.compile(loss='mse',\n",
    "                optimizer='Adam')\n",
    "history = model.fit(x=X_train, y=Y_train, batch_size=30, epochs=100, validation_data=(X_test, Y_test))\n",
    "y_pred = model.predict(X_test)"
   ]
  },
  {
   "cell_type": "code",
   "execution_count": 24,
   "metadata": {},
   "outputs": [
    {
     "name": "stdout",
     "output_type": "stream",
     "text": [
      "MAE: 1.3954994986229337\n",
      "MSE: 3.0807668019327235\n",
      "RMSE: 1.755211326858599\n",
      "VarScore: 0.6319310853253629\n"
     ]
    },
    {
     "data": {
      "image/png": "[encoded data removed]",
      "text/plain": [
       "<Figure size 720x360 with 1 Axes>"
      ]
     },
     "metadata": {
      "needs_background": "light"
     },
     "output_type": "display_data"
    }
   ],
   "source": [
    "fig = plt.figure(figsize=(10,5))\n",
    "plt.scatter(Y_test,y_pred)\n",
    "plt.plot(Y_test,Y_test,'r')\n",
    "from sklearn import metrics\n",
    "print('MAE:', metrics.mean_absolute_error(Y_test, y_pred))  \n",
    "print('MSE:', metrics.mean_squared_error(Y_test, y_pred))  \n",
    "print('RMSE:', np.sqrt(metrics.mean_squared_error(Y_test, y_pred)))\n",
    "print('VarScore:',metrics.explained_variance_score(Y_test,y_pred))"
   ]
  },
  {
   "cell_type": "code",
   "execution_count": 25,
   "metadata": {},
   "outputs": [
    {
     "data": {
      "text/plain": [
       "<AxesSubplot:>"
      ]
     },
     "execution_count": 25,
     "metadata": {},
     "output_type": "execute_result"
    },
    {
     "data": {
      "image/png": "[encoded data removed]",
      "text/plain": [
       "<Figure size 720x432 with 1 Axes>"
      ]
     },
     "metadata": {
      "needs_background": "light"
     },
     "output_type": "display_data"
    }
   ],
   "source": [
    "loss_df = pd.DataFrame(history.history)\n",
    "loss_df.plot(figsize=(10,6))"
   ]
  },
  {
   "cell_type": "code",
   "execution_count": null,
   "metadata": {},
   "outputs": [],
   "source": []
  }
 ],
 "metadata": {
  "kernelspec": {
   "display_name": "Python 3",
   "language": "python",
   "name": "python3"
  },
  "language_info": {
   "codemirror_mode": {
    "name": "ipython",
    "version": 3
   },
   "file_extension": ".py",
   "mimetype": "text/x-python",
   "name": "python",
   "nbconvert_exporter": "python",
   "pygments_lexer": "ipython3",
   "version": "3.8.5"
  }
 },
 "nbformat": 4,
 "nbformat_minor": 4
}
