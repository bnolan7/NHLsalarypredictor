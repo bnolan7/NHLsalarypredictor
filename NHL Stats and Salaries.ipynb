{
 "cells": [
  {
   "cell_type": "code",
   "execution_count": 1,
   "metadata": {},
   "outputs": [],
   "source": [
    "import numpy as np\n",
    "import matplotlib\n",
    "import matplotlib.pyplot as plt\n",
    "import pandas as pd\n",
    "import sklearn as sk\n",
    "import tensorflow as tf\n",
    "from tensorflow import keras\n",
    "import seaborn as sns"
   ]
  },
  {
   "cell_type": "code",
   "execution_count": 2,
   "metadata": {},
   "outputs": [],
   "source": [
    "data = pd.read_excel(\"C:\\\\Users\\\\bnola\\\\Documents\\\\Coding practice\\\\2018-2019 NHL Stats+Salary.xlsx\")"
   ]
  },
  {
   "cell_type": "code",
   "execution_count": 195,
   "metadata": {
    "scrolled": true
   },
   "outputs": [
    {
     "data": {
      "text/html": [
       "<div>\n",
       "<style scoped>\n",
       "    .dataframe tbody tr th:only-of-type {\n",
       "        vertical-align: middle;\n",
       "    }\n",
       "\n",
       "    .dataframe tbody tr th {\n",
       "        vertical-align: top;\n",
       "    }\n",
       "\n",
       "    .dataframe thead th {\n",
       "        text-align: right;\n",
       "    }\n",
       "</style>\n",
       "<table border=\"1\" class=\"dataframe\">\n",
       "  <thead>\n",
       "    <tr style=\"text-align: right;\">\n",
       "      <th></th>\n",
       "      <th>PLAYER</th>\n",
       "      <th>TEAM</th>\n",
       "      <th>AGE</th>\n",
       "      <th>POS</th>\n",
       "      <th>HANDED</th>\n",
       "      <th>GP</th>\n",
       "      <th>G</th>\n",
       "      <th>A</th>\n",
       "      <th>P</th>\n",
       "      <th>P/GP</th>\n",
       "      <th>+/-</th>\n",
       "      <th>Sh</th>\n",
       "      <th>Sh%</th>\n",
       "      <th>TOI</th>\n",
       "      <th>CAP HIT</th>\n",
       "      <th>SALARY</th>\n",
       "    </tr>\n",
       "  </thead>\n",
       "  <tbody>\n",
       "    <tr>\n",
       "      <th>0</th>\n",
       "      <td>1. Zdeno Chara</td>\n",
       "      <td>BOS</td>\n",
       "      <td>41</td>\n",
       "      <td>LD</td>\n",
       "      <td>Left</td>\n",
       "      <td>62</td>\n",
       "      <td>5</td>\n",
       "      <td>9</td>\n",
       "      <td>14</td>\n",
       "      <td>0.23</td>\n",
       "      <td>22</td>\n",
       "      <td>99</td>\n",
       "      <td>0.05</td>\n",
       "      <td>21:04:00</td>\n",
       "      <td>5000000</td>\n",
       "      <td>5000000</td>\n",
       "    </tr>\n",
       "    <tr>\n",
       "      <th>1</th>\n",
       "      <td>2. Marián Hossa</td>\n",
       "      <td>ARI</td>\n",
       "      <td>39</td>\n",
       "      <td>RW</td>\n",
       "      <td>Left</td>\n",
       "      <td>0</td>\n",
       "      <td>0</td>\n",
       "      <td>0</td>\n",
       "      <td>0</td>\n",
       "      <td>0</td>\n",
       "      <td>0</td>\n",
       "      <td>0</td>\n",
       "      <td>0</td>\n",
       "      <td>NaN</td>\n",
       "      <td>5275000</td>\n",
       "      <td>1000000</td>\n",
       "    </tr>\n",
       "    <tr>\n",
       "      <th>2</th>\n",
       "      <td>3. Joe Thornton</td>\n",
       "      <td>SJS</td>\n",
       "      <td>38</td>\n",
       "      <td>C</td>\n",
       "      <td>Left</td>\n",
       "      <td>73</td>\n",
       "      <td>16</td>\n",
       "      <td>35</td>\n",
       "      <td>51</td>\n",
       "      <td>0.7</td>\n",
       "      <td>8</td>\n",
       "      <td>90</td>\n",
       "      <td>0.18</td>\n",
       "      <td>15:32:00</td>\n",
       "      <td>5000000</td>\n",
       "      <td>5000000</td>\n",
       "    </tr>\n",
       "    <tr>\n",
       "      <th>3</th>\n",
       "      <td>4. Johan Franzen</td>\n",
       "      <td>DET</td>\n",
       "      <td>38</td>\n",
       "      <td>RW, LW</td>\n",
       "      <td>Left</td>\n",
       "      <td>0</td>\n",
       "      <td>0</td>\n",
       "      <td>0</td>\n",
       "      <td>0</td>\n",
       "      <td>0</td>\n",
       "      <td>0</td>\n",
       "      <td>0</td>\n",
       "      <td>0</td>\n",
       "      <td>NaN</td>\n",
       "      <td>3954545</td>\n",
       "      <td>1000000</td>\n",
       "    </tr>\n",
       "    <tr>\n",
       "      <th>4</th>\n",
       "      <td>5. Ryan Miller</td>\n",
       "      <td>ANA</td>\n",
       "      <td>37</td>\n",
       "      <td>G</td>\n",
       "      <td>Left</td>\n",
       "      <td>20</td>\n",
       "      <td>-</td>\n",
       "      <td>-</td>\n",
       "      <td>-</td>\n",
       "      <td>-</td>\n",
       "      <td>-</td>\n",
       "      <td>-</td>\n",
       "      <td>-</td>\n",
       "      <td>-</td>\n",
       "      <td>2000000</td>\n",
       "      <td>2000000</td>\n",
       "    </tr>\n",
       "    <tr>\n",
       "      <th>...</th>\n",
       "      <td>...</td>\n",
       "      <td>...</td>\n",
       "      <td>...</td>\n",
       "      <td>...</td>\n",
       "      <td>...</td>\n",
       "      <td>...</td>\n",
       "      <td>...</td>\n",
       "      <td>...</td>\n",
       "      <td>...</td>\n",
       "      <td>...</td>\n",
       "      <td>...</td>\n",
       "      <td>...</td>\n",
       "      <td>...</td>\n",
       "      <td>...</td>\n",
       "      <td>...</td>\n",
       "      <td>...</td>\n",
       "    </tr>\n",
       "    <tr>\n",
       "      <th>495</th>\n",
       "      <td>496. Sean Kuraly</td>\n",
       "      <td>BOS</td>\n",
       "      <td>25</td>\n",
       "      <td>C, LW</td>\n",
       "      <td>Left</td>\n",
       "      <td>71</td>\n",
       "      <td>8</td>\n",
       "      <td>13</td>\n",
       "      <td>21</td>\n",
       "      <td>0.3</td>\n",
       "      <td>6</td>\n",
       "      <td>134</td>\n",
       "      <td>0.06</td>\n",
       "      <td>13:46:00</td>\n",
       "      <td>1275000</td>\n",
       "      <td>1300000</td>\n",
       "    </tr>\n",
       "    <tr>\n",
       "      <th>496</th>\n",
       "      <td>497. Matt Puempel</td>\n",
       "      <td>DET</td>\n",
       "      <td>25</td>\n",
       "      <td>LW</td>\n",
       "      <td>Left</td>\n",
       "      <td>8</td>\n",
       "      <td>1</td>\n",
       "      <td>0</td>\n",
       "      <td>1</td>\n",
       "      <td>0.13</td>\n",
       "      <td>-2</td>\n",
       "      <td>10</td>\n",
       "      <td>0.1</td>\n",
       "      <td>10:24:00</td>\n",
       "      <td>675000</td>\n",
       "      <td>650000</td>\n",
       "    </tr>\n",
       "    <tr>\n",
       "      <th>497</th>\n",
       "      <td>498. Rocco Grimaldi</td>\n",
       "      <td>NSH</td>\n",
       "      <td>25</td>\n",
       "      <td>LW, RW</td>\n",
       "      <td>Right</td>\n",
       "      <td>53</td>\n",
       "      <td>5</td>\n",
       "      <td>8</td>\n",
       "      <td>13</td>\n",
       "      <td>0.25</td>\n",
       "      <td>-2</td>\n",
       "      <td>81</td>\n",
       "      <td>0.06</td>\n",
       "      <td>10:00:00</td>\n",
       "      <td>650000</td>\n",
       "      <td>650000</td>\n",
       "    </tr>\n",
       "    <tr>\n",
       "      <th>498</th>\n",
       "      <td>499. Dillon Simpson</td>\n",
       "      <td>CBJ</td>\n",
       "      <td>25</td>\n",
       "      <td>LD</td>\n",
       "      <td>Left</td>\n",
       "      <td>0</td>\n",
       "      <td>0</td>\n",
       "      <td>0</td>\n",
       "      <td>0</td>\n",
       "      <td>0</td>\n",
       "      <td>0</td>\n",
       "      <td>0</td>\n",
       "      <td>0</td>\n",
       "      <td>NaN</td>\n",
       "      <td>675000</td>\n",
       "      <td>650000</td>\n",
       "    </tr>\n",
       "    <tr>\n",
       "      <th>499</th>\n",
       "      <td>500. Stefan Noesen</td>\n",
       "      <td>SJS</td>\n",
       "      <td>25</td>\n",
       "      <td>RW, LW</td>\n",
       "      <td>Right</td>\n",
       "      <td>41</td>\n",
       "      <td>3</td>\n",
       "      <td>5</td>\n",
       "      <td>8</td>\n",
       "      <td>0.2</td>\n",
       "      <td>-19</td>\n",
       "      <td>64</td>\n",
       "      <td>0.05</td>\n",
       "      <td>12:43:00</td>\n",
       "      <td>1725000</td>\n",
       "      <td>1725000</td>\n",
       "    </tr>\n",
       "  </tbody>\n",
       "</table>\n",
       "<p>500 rows × 16 columns</p>\n",
       "</div>"
      ],
      "text/plain": [
       "                  PLAYER TEAM  AGE     POS HANDED  GP   G   A   P  P/GP  +/-  \\\n",
       "0         1. Zdeno Chara  BOS   41      LD   Left  62   5   9  14  0.23   22   \n",
       "1        2. Marián Hossa  ARI   39      RW   Left   0   0   0   0     0    0   \n",
       "2        3. Joe Thornton  SJS   38       C   Left  73  16  35  51   0.7    8   \n",
       "3       4. Johan Franzen  DET   38  RW, LW   Left   0   0   0   0     0    0   \n",
       "4         5. Ryan Miller  ANA   37       G   Left  20   -   -   -     -    -   \n",
       "..                   ...  ...  ...     ...    ...  ..  ..  ..  ..   ...  ...   \n",
       "495     496. Sean Kuraly  BOS   25   C, LW   Left  71   8  13  21   0.3    6   \n",
       "496    497. Matt Puempel  DET   25      LW   Left   8   1   0   1  0.13   -2   \n",
       "497  498. Rocco Grimaldi  NSH   25  LW, RW  Right  53   5   8  13  0.25   -2   \n",
       "498  499. Dillon Simpson  CBJ   25      LD   Left   0   0   0   0     0    0   \n",
       "499   500. Stefan Noesen  SJS   25  RW, LW  Right  41   3   5   8   0.2  -19   \n",
       "\n",
       "      Sh   Sh%       TOI  CAP HIT   SALARY  \n",
       "0     99  0.05  21:04:00  5000000  5000000  \n",
       "1      0     0       NaN  5275000  1000000  \n",
       "2     90  0.18  15:32:00  5000000  5000000  \n",
       "3      0     0       NaN  3954545  1000000  \n",
       "4      -     -         -  2000000  2000000  \n",
       "..   ...   ...       ...      ...      ...  \n",
       "495  134  0.06  13:46:00  1275000  1300000  \n",
       "496   10   0.1  10:24:00   675000   650000  \n",
       "497   81  0.06  10:00:00   650000   650000  \n",
       "498    0     0       NaN   675000   650000  \n",
       "499   64  0.05  12:43:00  1725000  1725000  \n",
       "\n",
       "[500 rows x 16 columns]"
      ]
     },
     "execution_count": 195,
     "metadata": {},
     "output_type": "execute_result"
    }
   ],
   "source": [
    "data"
   ]
  },
  {
   "cell_type": "code",
   "execution_count": 196,
   "metadata": {},
   "outputs": [],
   "source": [
    "df = data.dropna(axis=0, how='any')"
   ]
  },
  {
   "cell_type": "code",
   "execution_count": 197,
   "metadata": {},
   "outputs": [],
   "source": [
    "players = df.mask(df.POS == 'G')\n",
    "players = players.dropna(axis=0, how='any')"
   ]
  },
  {
   "cell_type": "code",
   "execution_count": 198,
   "metadata": {},
   "outputs": [],
   "source": [
    "players = players.drop(['TOI', 'CAP HIT'], axis=1)"
   ]
  },
  {
   "cell_type": "code",
   "execution_count": 199,
   "metadata": {},
   "outputs": [],
   "source": [
    "Y = players['SALARY'].values"
   ]
  },
  {
   "cell_type": "code",
   "execution_count": 219,
   "metadata": {},
   "outputs": [],
   "source": [
    "Y = Y/1000000.000"
   ]
  },
  {
   "cell_type": "code",
   "execution_count": 201,
   "metadata": {},
   "outputs": [],
   "source": [
    "X = players.drop(['PLAYER','TEAM', 'POS', 'HANDED', 'Sh', 'SALARY'], axis=1).values"
   ]
  },
  {
   "cell_type": "code",
   "execution_count": 389,
   "metadata": {},
   "outputs": [
    {
     "data": {
      "image/png": "[encoded data removed]",
      "text/plain": [
       "<Figure size 720x504 with 2 Axes>"
      ]
     },
     "metadata": {
      "needs_background": "light"
     },
     "output_type": "display_data"
    }
   ],
   "source": [
    "fig = plt.figure(figsize=(10,7))\n",
    "fig.add_subplot(2,1,1)\n",
    "sns.histplot(data=Y)\n",
    "fig.add_subplot(2,1,2)\n",
    "sns.boxplot(data=Y, orient='h')\n",
    "plt.tight_layout()"
   ]
  },
  {
   "cell_type": "code",
   "execution_count": 387,
   "metadata": {},
   "outputs": [
    {
     "data": {
      "image/png": "[encoded data removed]",
      "text/plain": [
       "<Figure size 1296x360 with 4 Axes>"
      ]
     },
     "metadata": {
      "needs_background": "light"
     },
     "output_type": "display_data"
    }
   ],
   "source": [
    "fig = plt.figure(figsize=(18,5));\n",
    "fig.add_subplot(2,2,1)\n",
    "sns.scatterplot(x=players['P'],y= Y)\n",
    "fig.add_subplot(2,2,2)\n",
    "sns.scatterplot(x=players['G'],y= Y)\n",
    "fig.add_subplot(2,2,3)\n",
    "sns.scatterplot(x=players['Sh%'],y= Y)\n",
    "fig.add_subplot(2,2,4)\n",
    "sns.scatterplot(x=players['AGE'],y= Y);\n",
    "fig.tight_layout()"
   ]
  },
  {
   "cell_type": "code",
   "execution_count": 363,
   "metadata": {},
   "outputs": [],
   "source": [
    "from sklearn.model_selection import train_test_split\n",
    "X_train, X_test, Y_train, Y_test = train_test_split(X, Y, test_size = 0.33)"
   ]
  },
  {
   "cell_type": "code",
   "execution_count": 364,
   "metadata": {},
   "outputs": [],
   "source": [
    "from sklearn import preprocessing\n",
    "s_scaler = preprocessing.StandardScaler()\n",
    "X_train = s_scaler.fit_transform(X_train.astype(np.float))\n",
    "X_test = s_scaler.transform(X_test.astype(np.float))"
   ]
  },
  {
   "cell_type": "code",
   "execution_count": 365,
   "metadata": {},
   "outputs": [
    {
     "name": "stdout",
     "output_type": "stream",
     "text": [
      "3.671590088803089\n",
      "[ 0.53179565  0.43830431  0.30615371  0.12359494  0.21596906  1.49741906\n",
      " -0.28506636 -0.67221606]\n"
     ]
    }
   ],
   "source": [
    "from sklearn.linear_model import LinearRegression\n",
    "regressor = LinearRegression()\n",
    "regressor.fit(X_train, Y_train)\n",
    "print(regressor.intercept_)\n",
    "print(regressor.coef_)"
   ]
  },
  {
   "cell_type": "code",
   "execution_count": 366,
   "metadata": {},
   "outputs": [],
   "source": [
    "y_pred_reg = regressor.predict(X_test)"
   ]
  },
  {
   "cell_type": "code",
   "execution_count": 367,
   "metadata": {},
   "outputs": [
    {
     "data": {
      "text/html": [
       "<div>\n",
       "<style scoped>\n",
       "    .dataframe tbody tr th:only-of-type {\n",
       "        vertical-align: middle;\n",
       "    }\n",
       "\n",
       "    .dataframe tbody tr th {\n",
       "        vertical-align: top;\n",
       "    }\n",
       "\n",
       "    .dataframe thead th {\n",
       "        text-align: right;\n",
       "    }\n",
       "</style>\n",
       "<table border=\"1\" class=\"dataframe\">\n",
       "  <thead>\n",
       "    <tr style=\"text-align: right;\">\n",
       "      <th></th>\n",
       "      <th>Coefficient</th>\n",
       "    </tr>\n",
       "  </thead>\n",
       "  <tbody>\n",
       "    <tr>\n",
       "      <th>AGE</th>\n",
       "      <td>0.531796</td>\n",
       "    </tr>\n",
       "    <tr>\n",
       "      <th>GP</th>\n",
       "      <td>0.438304</td>\n",
       "    </tr>\n",
       "    <tr>\n",
       "      <th>G</th>\n",
       "      <td>0.306154</td>\n",
       "    </tr>\n",
       "    <tr>\n",
       "      <th>A</th>\n",
       "      <td>0.123595</td>\n",
       "    </tr>\n",
       "    <tr>\n",
       "      <th>P</th>\n",
       "      <td>0.215969</td>\n",
       "    </tr>\n",
       "    <tr>\n",
       "      <th>P/GP</th>\n",
       "      <td>1.497419</td>\n",
       "    </tr>\n",
       "    <tr>\n",
       "      <th>+/-</th>\n",
       "      <td>-0.285066</td>\n",
       "    </tr>\n",
       "    <tr>\n",
       "      <th>Sh%</th>\n",
       "      <td>-0.672216</td>\n",
       "    </tr>\n",
       "  </tbody>\n",
       "</table>\n",
       "</div>"
      ],
      "text/plain": [
       "      Coefficient\n",
       "AGE      0.531796\n",
       "GP       0.438304\n",
       "G        0.306154\n",
       "A        0.123595\n",
       "P        0.215969\n",
       "P/GP     1.497419\n",
       "+/-     -0.285066\n",
       "Sh%     -0.672216"
      ]
     },
     "execution_count": 367,
     "metadata": {},
     "output_type": "execute_result"
    }
   ],
   "source": [
    "coeff_df = pd.DataFrame(regressor.coef_, players.drop(['PLAYER','TEAM', 'POS', 'HANDED', 'Sh', 'SALARY'], axis=1).columns, columns=['Coefficient'])\n",
    "coeff_df"
   ]
  },
  {
   "cell_type": "code",
   "execution_count": 368,
   "metadata": {},
   "outputs": [
    {
     "data": {
      "text/plain": [
       "<Figure size 720x360 with 0 Axes>"
      ]
     },
     "metadata": {},
     "output_type": "display_data"
    },
    {
     "data": {
      "image/png": "[encoded data removed]",
      "text/plain": [
       "<Figure size 360x360 with 1 Axes>"
      ]
     },
     "metadata": {
      "needs_background": "light"
     },
     "output_type": "display_data"
    }
   ],
   "source": [
    "fig = plt.figure(figsize=(10,5));\n",
    "resids = (Y_test - y_pred_reg)\n",
    "sns.displot(resids);"
   ]
  },
  {
   "cell_type": "code",
   "execution_count": 369,
   "metadata": {},
   "outputs": [
    {
     "name": "stdout",
     "output_type": "stream",
     "text": [
      "MAE: 1.3865463803140319\n",
      "MSE: 3.4737317868816895\n",
      "RMSE: 1.8637949959375064\n",
      "VarScore: 0.6055151634325173\n"
     ]
    }
   ],
   "source": [
    "y_pred = regressor.predict(X_test)\n",
    "predictions_df = pd.DataFrame({'Actual': Y_test, 'Predicted': y_pred})\n",
    "df1 = predictions_df.head(10)\n",
    "df1\n",
    "# evaluate the performance of the algorithm (MAE - MSE - RMSE)\n",
    "from sklearn import metrics\n",
    "print('MAE:', metrics.mean_absolute_error(Y_test, y_pred))  \n",
    "print('MSE:', metrics.mean_squared_error(Y_test, y_pred))  \n",
    "print('RMSE:', np.sqrt(metrics.mean_squared_error(Y_test, y_pred)))\n",
    "print('VarScore:',metrics.explained_variance_score(Y_test,y_pred))"
   ]
  },
  {
   "cell_type": "code",
   "execution_count": 370,
   "metadata": {},
   "outputs": [
    {
     "data": {
      "image/png": "[encoded data removed]",
      "text/plain": [
       "<Figure size 432x288 with 1 Axes>"
      ]
     },
     "metadata": {
      "needs_background": "light"
     },
     "output_type": "display_data"
    }
   ],
   "source": [
    "sns.scatterplot(x = df['Actual'], y = df['Predicted']);"
   ]
  },
  {
   "cell_type": "code",
   "execution_count": 380,
   "metadata": {},
   "outputs": [
    {
     "name": "stdout",
     "output_type": "stream",
     "text": [
      "Epoch 1/100\n",
      " 1/26 [>.............................] - ETA: 0s - loss: 24.2883WARNING:tensorflow:Callbacks method `on_test_batch_end` is slow compared to the batch time (batch time: 0.0000s vs `on_test_batch_end` time: 0.0010s). Check your callbacks.\n",
      "26/26 [==============================] - 0s 5ms/step - loss: 18.8758 - val_loss: 20.8739\n",
      "Epoch 2/100\n",
      "26/26 [==============================] - 0s 2ms/step - loss: 16.4324 - val_loss: 17.8381\n",
      "Epoch 3/100\n",
      "26/26 [==============================] - 0s 1ms/step - loss: 13.9714 - val_loss: 14.6517\n",
      "Epoch 4/100\n",
      "26/26 [==============================] - 0s 1ms/step - loss: 11.3886 - val_loss: 11.8602\n",
      "Epoch 5/100\n",
      "26/26 [==============================] - 0s 1ms/step - loss: 9.2369 - val_loss: 9.1813\n",
      "Epoch 6/100\n",
      "26/26 [==============================] - 0s 1ms/step - loss: 7.3855 - val_loss: 7.2568\n",
      "Epoch 7/100\n",
      "26/26 [==============================] - 0s 1ms/step - loss: 6.1106 - val_loss: 5.9816\n",
      "Epoch 8/100\n",
      "26/26 [==============================] - 0s 1ms/step - loss: 5.3118 - val_loss: 5.2382\n",
      "Epoch 9/100\n",
      "26/26 [==============================] - 0s 2ms/step - loss: 4.8427 - val_loss: 4.7839\n",
      "Epoch 10/100\n",
      "26/26 [==============================] - 0s 1ms/step - loss: 4.5506 - val_loss: 4.4913\n",
      "Epoch 11/100\n",
      "26/26 [==============================] - 0s 1ms/step - loss: 4.3188 - val_loss: 4.2745\n",
      "Epoch 12/100\n",
      "26/26 [==============================] - 0s 2ms/step - loss: 4.1190 - val_loss: 4.1087\n",
      "Epoch 13/100\n",
      "26/26 [==============================] - 0s 1ms/step - loss: 3.9572 - val_loss: 4.0224\n",
      "Epoch 14/100\n",
      "26/26 [==============================] - 0s 1ms/step - loss: 3.8036 - val_loss: 3.8722\n",
      "Epoch 15/100\n",
      "26/26 [==============================] - 0s 1ms/step - loss: 3.6917 - val_loss: 3.7373\n",
      "Epoch 16/100\n",
      "26/26 [==============================] - 0s 1ms/step - loss: 3.5774 - val_loss: 3.7165\n",
      "Epoch 17/100\n",
      "26/26 [==============================] - 0s 1ms/step - loss: 3.4667 - val_loss: 3.5992\n",
      "Epoch 18/100\n",
      "26/26 [==============================] - 0s 2ms/step - loss: 3.3903 - val_loss: 3.5535\n",
      "Epoch 19/100\n",
      "26/26 [==============================] - 0s 1ms/step - loss: 3.3291 - val_loss: 3.4930\n",
      "Epoch 20/100\n",
      "26/26 [==============================] - 0s 1ms/step - loss: 3.2675 - val_loss: 3.4487\n",
      "Epoch 21/100\n",
      "26/26 [==============================] - 0s 1ms/step - loss: 3.2245 - val_loss: 3.4537\n",
      "Epoch 22/100\n",
      "26/26 [==============================] - 0s 1ms/step - loss: 3.1792 - val_loss: 3.3834\n",
      "Epoch 23/100\n",
      "26/26 [==============================] - 0s 1ms/step - loss: 3.1247 - val_loss: 3.3686\n",
      "Epoch 24/100\n",
      "26/26 [==============================] - 0s 1ms/step - loss: 3.0979 - val_loss: 3.3643\n",
      "Epoch 25/100\n",
      "26/26 [==============================] - 0s 1ms/step - loss: 3.0702 - val_loss: 3.3381\n",
      "Epoch 26/100\n",
      "26/26 [==============================] - 0s 1ms/step - loss: 3.0344 - val_loss: 3.3255\n",
      "Epoch 27/100\n",
      "26/26 [==============================] - 0s 1ms/step - loss: 3.0130 - val_loss: 3.3094\n",
      "Epoch 28/100\n",
      "26/26 [==============================] - 0s 1ms/step - loss: 2.9887 - val_loss: 3.2953\n",
      "Epoch 29/100\n",
      "26/26 [==============================] - 0s 1ms/step - loss: 2.9685 - val_loss: 3.2960\n",
      "Epoch 30/100\n",
      "26/26 [==============================] - 0s 1ms/step - loss: 2.9387 - val_loss: 3.2781\n",
      "Epoch 31/100\n",
      "26/26 [==============================] - 0s 1ms/step - loss: 2.9242 - val_loss: 3.2917\n",
      "Epoch 32/100\n",
      "26/26 [==============================] - 0s 1ms/step - loss: 2.8948 - val_loss: 3.2458\n",
      "Epoch 33/100\n",
      "26/26 [==============================] - 0s 2ms/step - loss: 2.8885 - val_loss: 3.2393\n",
      "Epoch 34/100\n",
      "26/26 [==============================] - 0s 1ms/step - loss: 2.8654 - val_loss: 3.2288\n",
      "Epoch 35/100\n",
      "26/26 [==============================] - 0s 1ms/step - loss: 2.8512 - val_loss: 3.2386\n",
      "Epoch 36/100\n",
      "26/26 [==============================] - 0s 1ms/step - loss: 2.8311 - val_loss: 3.2065\n",
      "Epoch 37/100\n",
      "26/26 [==============================] - 0s 1ms/step - loss: 2.8364 - val_loss: 3.2133\n",
      "Epoch 38/100\n",
      "26/26 [==============================] - 0s 1ms/step - loss: 2.8122 - val_loss: 3.1923\n",
      "Epoch 39/100\n",
      "26/26 [==============================] - 0s 2ms/step - loss: 2.7922 - val_loss: 3.2083\n",
      "Epoch 40/100\n",
      "26/26 [==============================] - 0s 1ms/step - loss: 2.7869 - val_loss: 3.1749\n",
      "Epoch 41/100\n",
      "26/26 [==============================] - 0s 1ms/step - loss: 2.7735 - val_loss: 3.2076\n",
      "Epoch 42/100\n",
      "26/26 [==============================] - 0s 1ms/step - loss: 2.7686 - val_loss: 3.1724\n",
      "Epoch 43/100\n",
      "26/26 [==============================] - 0s 1ms/step - loss: 2.7512 - val_loss: 3.1924\n",
      "Epoch 44/100\n",
      "26/26 [==============================] - 0s 1ms/step - loss: 2.7428 - val_loss: 3.1832\n",
      "Epoch 45/100\n",
      "26/26 [==============================] - 0s 1ms/step - loss: 2.7285 - val_loss: 3.1653\n",
      "Epoch 46/100\n",
      "26/26 [==============================] - 0s 1ms/step - loss: 2.7164 - val_loss: 3.1613\n",
      "Epoch 47/100\n",
      "26/26 [==============================] - 0s 1ms/step - loss: 2.7128 - val_loss: 3.1810\n",
      "Epoch 48/100\n",
      "26/26 [==============================] - 0s 1ms/step - loss: 2.7133 - val_loss: 3.1375\n",
      "Epoch 49/100\n",
      "26/26 [==============================] - 0s 2ms/step - loss: 2.7009 - val_loss: 3.1587\n",
      "Epoch 50/100\n",
      "26/26 [==============================] - 0s 1ms/step - loss: 2.6839 - val_loss: 3.1492\n",
      "Epoch 51/100\n",
      "26/26 [==============================] - 0s 2ms/step - loss: 2.6776 - val_loss: 3.1827\n",
      "Epoch 52/100\n",
      "26/26 [==============================] - 0s 1ms/step - loss: 2.6716 - val_loss: 3.1594\n",
      "Epoch 53/100\n",
      "26/26 [==============================] - 0s 1ms/step - loss: 2.6615 - val_loss: 3.1467\n",
      "Epoch 54/100\n",
      "26/26 [==============================] - 0s 1ms/step - loss: 2.6553 - val_loss: 3.1591\n",
      "Epoch 55/100\n",
      "26/26 [==============================] - 0s 1ms/step - loss: 2.6439 - val_loss: 3.1701\n",
      "Epoch 56/100\n",
      "26/26 [==============================] - 0s 1ms/step - loss: 2.6370 - val_loss: 3.1407\n",
      "Epoch 57/100\n",
      "26/26 [==============================] - 0s 1ms/step - loss: 2.6299 - val_loss: 3.1349\n",
      "Epoch 58/100\n",
      "26/26 [==============================] - 0s 1ms/step - loss: 2.6473 - val_loss: 3.1949\n",
      "Epoch 59/100\n",
      "26/26 [==============================] - 0s 2ms/step - loss: 2.6144 - val_loss: 3.1342\n",
      "Epoch 60/100\n",
      "26/26 [==============================] - 0s 2ms/step - loss: 2.6072 - val_loss: 3.1273\n",
      "Epoch 61/100\n",
      "26/26 [==============================] - 0s 2ms/step - loss: 2.5968 - val_loss: 3.1395\n",
      "Epoch 62/100\n",
      "26/26 [==============================] - 0s 2ms/step - loss: 2.5959 - val_loss: 3.1502\n",
      "Epoch 63/100\n",
      "26/26 [==============================] - 0s 2ms/step - loss: 2.5935 - val_loss: 3.1671\n",
      "Epoch 64/100\n",
      "26/26 [==============================] - 0s 2ms/step - loss: 2.5971 - val_loss: 3.1467\n",
      "Epoch 65/100\n",
      "26/26 [==============================] - 0s 2ms/step - loss: 2.5693 - val_loss: 3.1498\n",
      "Epoch 66/100\n",
      "26/26 [==============================] - 0s 2ms/step - loss: 2.5682 - val_loss: 3.1546\n",
      "Epoch 67/100\n",
      "26/26 [==============================] - 0s 2ms/step - loss: 2.5517 - val_loss: 3.1446\n",
      "Epoch 68/100\n",
      "26/26 [==============================] - 0s 1ms/step - loss: 2.5615 - val_loss: 3.1520\n",
      "Epoch 69/100\n",
      "26/26 [==============================] - 0s 2ms/step - loss: 2.5444 - val_loss: 3.1102\n",
      "Epoch 70/100\n",
      "26/26 [==============================] - 0s 1ms/step - loss: 2.5430 - val_loss: 3.1414\n",
      "Epoch 71/100\n",
      "26/26 [==============================] - 0s 2ms/step - loss: 2.5290 - val_loss: 3.1443\n",
      "Epoch 72/100\n",
      "26/26 [==============================] - 0s 2ms/step - loss: 2.5292 - val_loss: 3.1338\n",
      "Epoch 73/100\n",
      "26/26 [==============================] - 0s 1ms/step - loss: 2.5114 - val_loss: 3.1388\n",
      "Epoch 74/100\n",
      "26/26 [==============================] - 0s 2ms/step - loss: 2.5150 - val_loss: 3.1425\n",
      "Epoch 75/100\n",
      "26/26 [==============================] - 0s 1ms/step - loss: 2.5002 - val_loss: 3.1438\n",
      "Epoch 76/100\n",
      "26/26 [==============================] - 0s 2ms/step - loss: 2.5128 - val_loss: 3.1412\n",
      "Epoch 77/100\n",
      "26/26 [==============================] - 0s 2ms/step - loss: 2.4908 - val_loss: 3.1260\n",
      "Epoch 78/100\n",
      "26/26 [==============================] - 0s 2ms/step - loss: 2.4984 - val_loss: 3.1090\n",
      "Epoch 79/100\n",
      "26/26 [==============================] - 0s 2ms/step - loss: 2.4864 - val_loss: 3.1601\n",
      "Epoch 80/100\n",
      "26/26 [==============================] - 0s 1ms/step - loss: 2.4819 - val_loss: 3.1258\n",
      "Epoch 81/100\n",
      "26/26 [==============================] - 0s 2ms/step - loss: 2.4723 - val_loss: 3.1459\n",
      "Epoch 82/100\n",
      "26/26 [==============================] - 0s 1ms/step - loss: 2.4665 - val_loss: 3.1377\n",
      "Epoch 83/100\n",
      "26/26 [==============================] - 0s 1ms/step - loss: 2.4667 - val_loss: 3.1255\n",
      "Epoch 84/100\n",
      "26/26 [==============================] - 0s 1ms/step - loss: 2.4679 - val_loss: 3.1776\n",
      "Epoch 85/100\n",
      "26/26 [==============================] - 0s 1ms/step - loss: 2.4481 - val_loss: 3.1481\n",
      "Epoch 86/100\n",
      "26/26 [==============================] - 0s 1ms/step - loss: 2.4573 - val_loss: 3.1255\n",
      "Epoch 87/100\n",
      "26/26 [==============================] - 0s 1ms/step - loss: 2.4325 - val_loss: 3.1568\n",
      "Epoch 88/100\n",
      "26/26 [==============================] - 0s 1ms/step - loss: 2.4314 - val_loss: 3.1474\n",
      "Epoch 89/100\n",
      "26/26 [==============================] - 0s 1ms/step - loss: 2.4284 - val_loss: 3.1458\n",
      "Epoch 90/100\n",
      "26/26 [==============================] - 0s 1ms/step - loss: 2.4175 - val_loss: 3.1610\n",
      "Epoch 91/100\n",
      "26/26 [==============================] - 0s 1ms/step - loss: 2.4172 - val_loss: 3.1490\n",
      "Epoch 92/100\n",
      "26/26 [==============================] - 0s 2ms/step - loss: 2.4092 - val_loss: 3.1582\n",
      "Epoch 93/100\n",
      "26/26 [==============================] - 0s 1ms/step - loss: 2.3971 - val_loss: 3.1600\n",
      "Epoch 94/100\n",
      "26/26 [==============================] - 0s 1ms/step - loss: 2.4028 - val_loss: 3.1476\n",
      "Epoch 95/100\n",
      "26/26 [==============================] - 0s 1ms/step - loss: 2.3989 - val_loss: 3.2058\n",
      "Epoch 96/100\n",
      "26/26 [==============================] - 0s 1ms/step - loss: 2.3941 - val_loss: 3.1399\n",
      "Epoch 97/100\n",
      "26/26 [==============================] - 0s 1ms/step - loss: 2.3763 - val_loss: 3.1663\n",
      "Epoch 98/100\n",
      "26/26 [==============================] - 0s 1ms/step - loss: 2.3686 - val_loss: 3.1563\n",
      "Epoch 99/100\n",
      "26/26 [==============================] - 0s 1ms/step - loss: 2.3922 - val_loss: 3.2221\n",
      "Epoch 100/100\n",
      "26/26 [==============================] - 0s 1ms/step - loss: 2.4001 - val_loss: 3.1363\n",
      "MAE: 1.1642923720160196\n",
      "MSE: 2.5961581969842684\n",
      "RMSE: 1.6112598167223895\n",
      "VarScore: 0.7060641888164185\n"
     ]
    },
    {
     "data": {
      "image/png": "[encoded data removed]",
      "text/plain": [
       "<Figure size 720x360 with 1 Axes>"
      ]
     },
     "metadata": {
      "needs_background": "light"
     },
     "output_type": "display_data"
    }
   ],
   "source": [
    "def hockey_model(x):\n",
    "    model = keras.Sequential([keras.layers.Dense(8, activation='relu'), \n",
    "                          keras.layers.Dense(8, activation='relu'),\n",
    "                          keras.layers.Dense(1)])\n",
    "    model.compile(loss='mse',\n",
    "                optimizer='Adam')\n",
    "    model.fit(x=X_train, y=Y_train, batch_size=10, epochs=100, validation_data=(X_test, Y_test))\n",
    "    history = model.predict(x)\n",
    "    fig = plt.figure(figsize=(10,5))\n",
    "    plt.scatter(Y_test,y_pred)\n",
    "    plt.plot(Y_test,Y_test,'r')\n",
    "    return\n",
    "hockey_model(X_test)\n",
    "\n",
    "from sklearn import metrics\n",
    "print('MAE:', metrics.mean_absolute_error(Y_test, y_pred))  \n",
    "print('MSE:', metrics.mean_squared_error(Y_test, y_pred))  \n",
    "print('RMSE:', np.sqrt(metrics.mean_squared_error(Y_test, y_pred)))\n",
    "print('VarScore:',metrics.explained_variance_score(Y_test,y_pred))"
   ]
  },
  {
   "cell_type": "code",
   "execution_count": 373,
   "metadata": {},
   "outputs": [
    {
     "data": {
      "text/plain": [
       "<AxesSubplot:>"
      ]
     },
     "execution_count": 373,
     "metadata": {},
     "output_type": "execute_result"
    },
    {
     "data": {
      "image/png": "[encoded data removed]",
      "text/plain": [
       "<Figure size 720x432 with 1 Axes>"
      ]
     },
     "metadata": {
      "needs_background": "light"
     },
     "output_type": "display_data"
    }
   ],
   "source": [
    "loss_df = pd.DataFrame(history.history)\n",
    "loss_df.plot(figsize=(10,6))"
   ]
  }
 ],
 "metadata": {
  "kernelspec": {
   "display_name": "Python 3",
   "language": "python",
   "name": "python3"
  },
  "language_info": {
   "codemirror_mode": {
    "name": "ipython",
    "version": 3
   },
   "file_extension": ".py",
   "mimetype": "text/x-python",
   "name": "python",
   "nbconvert_exporter": "python",
   "pygments_lexer": "ipython3",
   "version": "3.8.5"
  }
 },
 "nbformat": 4,
 "nbformat_minor": 4
}
